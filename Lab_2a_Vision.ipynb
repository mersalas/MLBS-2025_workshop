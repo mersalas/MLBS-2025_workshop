{
  "nbformat": 4,
  "nbformat_minor": 0,
  "metadata": {
    "colab": {
      "provenance": [],
      "gpuType": "T4",
      "mount_file_id": "1Ys2QmZ7rzCYwUUFU3A7eRKDBzncW2OHN",
      "authorship_tag": "ABX9TyP1nm6N59OQ6VVnbEWfMcoT",
      "include_colab_link": true
    },
    "kernelspec": {
      "name": "python3",
      "display_name": "Python 3"
    },
    "language_info": {
      "name": "python"
    },
    "accelerator": "GPU"
  },
  "cells": [
    {
      "cell_type": "markdown",
      "metadata": {
        "id": "view-in-github",
        "colab_type": "text"
      },
      "source": [
        "<a href=\"https://colab.research.google.com/github/mersalas/MLBS-2025_workshop/blob/main/Lab_2a_Vision.ipynb\" target=\"_parent\"><img src=\"https://colab.research.google.com/assets/colab-badge.svg\" alt=\"Open In Colab\"/></a>"
      ]
    },
    {
      "cell_type": "code",
      "source": [
        "# Import fastai library\n",
        "from fastai.vision.all import *"
      ],
      "metadata": {
        "id": "NvaqRILx82ev"
      },
      "execution_count": null,
      "outputs": []
    },
    {
      "cell_type": "markdown",
      "source": [
        "Download either of the following datasets:\n",
        "\n",
        "\n",
        "*   [Philippine rice diseases](https://www.kaggle.com/datasets/gauravduttakiit/philippines-rice-diseases)\n",
        "*   [Freshwater fish diseases](https://www.kaggle.com/datasets/subirbiswas19/freshwater-fish-disease-aquaculture-in-south-asia/data)\n",
        "\n"
      ],
      "metadata": {
        "id": "PZMDJKL-UvFQ"
      }
    },
    {
      "cell_type": "code",
      "source": [
        "# Unzip folder\n",
        "from zipfile import ZipFile\n",
        "with ZipFile(\"/content/fish_disease.zip\", \"r\") as archive:\n",
        "             archive.extractall(\"fish_disease\")"
      ],
      "metadata": {
        "id": "bYmoqXvtPASo"
      },
      "execution_count": null,
      "outputs": []
    },
    {
      "cell_type": "code",
      "source": [
        "# Set the path to the dataset\n",
        "path = Path(\"/content/fish_disease/freshwater\")\n",
        "path.ls()"
      ],
      "metadata": {
        "id": "H0LWdJBPPywF",
        "collapsed": true
      },
      "execution_count": null,
      "outputs": []
    },
    {
      "cell_type": "code",
      "source": [
        "# List all image files in train directory\n",
        "trn_path = path/'Train'\n",
        "files = get_image_files(trn_path)\n",
        "files"
      ],
      "metadata": {
        "id": "nJ1QGhfTQjN6",
        "collapsed": true
      },
      "execution_count": null,
      "outputs": []
    },
    {
      "cell_type": "code",
      "source": [
        "# View the first image\n",
        "img = PILImage.create(files[0])\n",
        "print(img.size)\n",
        "img.to_thumb(128)"
      ],
      "metadata": {
        "id": "uqrJxAQ1Q5bO",
        "collapsed": true
      },
      "execution_count": null,
      "outputs": []
    },
    {
      "cell_type": "code",
      "source": [
        "# Use parallel processing to get sizes of all images\n",
        "from fastcore.parallel import*\n",
        "\n",
        "def f(o): return PILImage.create(o).size\n",
        "sizes = parallel(f, files, n_workers=8)\n",
        "pd.Series(sizes).value_counts()"
      ],
      "metadata": {
        "id": "4R6Ii8S6RFos",
        "collapsed": true
      },
      "execution_count": null,
      "outputs": []
    },
    {
      "cell_type": "code",
      "source": [
        "# Create dataloader\n",
        "dls = ImageDataLoaders.from_folder(trn_path, valid_pct=0.2, seed=42,\n",
        "                                   item_tfms=Resize(62, method='squish'),\n",
        "                                   bacth_tfms=aug_transforms(size=128, min_scale=0.75))\n",
        "\n",
        "dls.show_batch(max_n=6)"
      ],
      "metadata": {
        "id": "B7wlW-j2Rpgc",
        "collapsed": true
      },
      "execution_count": null,
      "outputs": []
    },
    {
      "cell_type": "markdown",
      "source": [
        "Pick model architecture here: [The best vision models for fine-tuning](https://www.kaggle.com/code/jhoward/the-best-vision-models-for-fine-tuning)"
      ],
      "metadata": {
        "id": "HlgQ8AyW60s9"
      }
    },
    {
      "cell_type": "code",
      "source": [
        "# Create a CNN learner\n",
        "learn = vision_learner(dls, 'resnet26d', metrics=[error_rate, accuracy], path='.').to_fp16()"
      ],
      "metadata": {
        "id": "v8zFHPwWS1Ed"
      },
      "execution_count": null,
      "outputs": []
    },
    {
      "cell_type": "code",
      "source": [
        "# Find appropriate learning_rate\n",
        "learn.lr_find(suggest_funcs=(valley, slide))"
      ],
      "metadata": {
        "id": "N3vqBPdQUENs",
        "collapsed": true
      },
      "execution_count": null,
      "outputs": []
    },
    {
      "cell_type": "code",
      "source": [
        "# Fine tune the model\n",
        "learn.fine_tune(3, 1e-1)"
      ],
      "metadata": {
        "id": "Fk1PEcsPVbbQ",
        "collapsed": true
      },
      "execution_count": null,
      "outputs": []
    },
    {
      "cell_type": "code",
      "source": [
        "learn.show_results()"
      ],
      "metadata": {
        "id": "ik3RV8aNNZW6",
        "collapsed": true
      },
      "execution_count": null,
      "outputs": []
    },
    {
      "cell_type": "code",
      "source": [
        "# Create test dataloader\n",
        "tst_files = get_image_files(path/'Test')\n",
        "tst_dl = dls.test_dl(tst_files)"
      ],
      "metadata": {
        "id": "DWDucqK_VyRY"
      },
      "execution_count": null,
      "outputs": []
    },
    {
      "cell_type": "code",
      "source": [
        "# Get predictions\n",
        "preds, _ = learn.get_preds(dl=tst_dl)"
      ],
      "metadata": {
        "id": "ipcSSlBSC7gp"
      },
      "execution_count": null,
      "outputs": []
    },
    {
      "cell_type": "code",
      "source": [
        "# Get the index of the highest probability class for each prediction\n",
        "pred_idxs = preds.argmax(dim=1)\n",
        "\n",
        "# Get the probability of the predicted class for each prediction\n",
        "pred_probs = preds.max(dim=1).values"
      ],
      "metadata": {
        "id": "TbNRp4hKMiOn"
      },
      "execution_count": null,
      "outputs": []
    },
    {
      "cell_type": "code",
      "source": [
        "# Map prediction indices to class labels\n",
        "pred_labels = [dls.vocab[i] for i in pred_idxs]"
      ],
      "metadata": {
        "id": "InmIESPGMRRc"
      },
      "execution_count": null,
      "outputs": []
    },
    {
      "cell_type": "code",
      "source": [
        "# Compile results into a DataFrame\n",
        "results = pd.DataFrame({\n",
        "    'filename': [f.name for f in tst_files],\n",
        "    'predicted_class': pred_labels,\n",
        "    'probability': pred_probs.numpy()\n",
        "})\n",
        "\n",
        "# Display the results\n",
        "print(results.head())"
      ],
      "metadata": {
        "id": "swSF1VEwMlja",
        "collapsed": true
      },
      "execution_count": null,
      "outputs": []
    },
    {
      "cell_type": "markdown",
      "source": [
        "## Exercise 2a"
      ],
      "metadata": {
        "id": "07zEYSUcZurg"
      }
    },
    {
      "cell_type": "markdown",
      "source": [
        "Train a CNN model incorporating the following:\n",
        "\n",
        "*   convnext_small_in22k\n",
        "*   padding\n",
        "*   test time augmentation\n",
        "*   [sample](https://www.kaggle.com/code/jhoward/small-models-road-to-the-top-part-2/)\n",
        "\n",
        "\n",
        "\n",
        "\n",
        "\n",
        "\n",
        "\n"
      ],
      "metadata": {
        "id": "Xt35W7gGZ38k"
      }
    },
    {
      "cell_type": "code",
      "source": [],
      "metadata": {
        "id": "atDEi9Aba6jf"
      },
      "execution_count": null,
      "outputs": []
    }
  ]
}