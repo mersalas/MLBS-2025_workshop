{
  "nbformat": 4,
  "nbformat_minor": 0,
  "metadata": {
    "colab": {
      "provenance": [],
      "authorship_tag": "ABX9TyOCZIhhJXscTNxwcLW2eDCe",
      "include_colab_link": true
    },
    "kernelspec": {
      "name": "python3",
      "display_name": "Python 3"
    },
    "language_info": {
      "name": "python"
    }
  },
  "cells": [
    {
      "cell_type": "markdown",
      "metadata": {
        "id": "view-in-github",
        "colab_type": "text"
      },
      "source": [
        "<a href=\"https://colab.research.google.com/github/mersalas/MLBS-2025_workshop/blob/main/Lab_3_Docking.ipynb\" target=\"_parent\"><img src=\"https://colab.research.google.com/assets/colab-badge.svg\" alt=\"Open In Colab\"/></a>"
      ]
    },
    {
      "cell_type": "markdown",
      "source": [
        "This exercise is based on [Python scripting for molecular docking workshop](https://pdb101.rcsb.org/train/training-events/python3)"
      ],
      "metadata": {
        "id": "S6a4tpSeL4ve"
      }
    },
    {
      "cell_type": "code",
      "source": [
        "# Install packages\n",
        "!pip install rcsb-api # searching PDB\n",
        "!pip install pdb2pqr  # editing PDB\n",
        "!pip install MDAnalysis # selecting atoms\n",
        "!pip install rdkit #\n",
        "!pip install meeko # preparing ligands for docking\n",
        "!pip install vina # docking software\n",
        "!pip install prolif # view interaction map\n",
        "!pip install py3Dmol # view pdb"
      ],
      "metadata": {
        "collapsed": true,
        "id": "_brvoyUZOyRA"
      },
      "execution_count": null,
      "outputs": []
    },
    {
      "cell_type": "markdown",
      "source": [
        "## **Docking preparation**"
      ],
      "metadata": {
        "id": "DY80rFRZWKDk"
      }
    },
    {
      "cell_type": "markdown",
      "source": [
        "### Find & save protein structure"
      ],
      "metadata": {
        "id": "k4sBJR1GOG_c"
      }
    },
    {
      "cell_type": "code",
      "execution_count": null,
      "metadata": {
        "id": "ZI2sOUwQLdUg",
        "collapsed": true
      },
      "outputs": [],
      "source": [
        "from rcsbapi.search import TextQuery\n",
        "from rcsbapi.search import search_attributes as attrs\n",
        "\n",
        "ECnumber =\"3.4.21.4\"  # EC number of trypsin\n",
        "\n",
        "q1 = attrs.rcsb_polymer_entity.rcsb_ec_lineage.id == ECnumber   # looking for typrins\n",
        "q2 = TextQuery(\"13U\")\n",
        "\n",
        "query = q1 & q2   # combining the two queries\n",
        "\n",
        "results = list(query())\n",
        "print(results)"
      ]
    },
    {
      "cell_type": "code",
      "source": [
        "pdb_id = results[0].lower() # get the PDB ID from the list & convert it to lowercase\n",
        "print(pdb_id)"
      ],
      "metadata": {
        "id": "b9I3FHGPOd8I",
        "collapsed": true
      },
      "execution_count": null,
      "outputs": []
    },
    {
      "cell_type": "code",
      "source": [
        "import os # for making directories\n",
        "import requests\n",
        "\n",
        "# Make a directory for pdb files\n",
        "protein_directory = \"protein_structures\"\n",
        "os.makedirs(protein_directory, exist_ok=True)\n",
        "\n",
        "# Download pdb\n",
        "pbd_request = requests.get(f\"https://files.rcsb.org/download/{pdb_id}.pdb\")\n",
        "pbd_request.status_code"
      ],
      "metadata": {
        "id": "tIV80X2aR4Bw",
        "collapsed": true
      },
      "execution_count": null,
      "outputs": []
    },
    {
      "cell_type": "code",
      "source": [
        "# Save pdb file\n",
        "with open(f\"{protein_directory}/{pdb_id}.pdb\", \"w+\") as f:\n",
        "  f.write(pbd_request.text)"
      ],
      "metadata": {
        "id": "TdmCGHHIS4fp"
      },
      "execution_count": null,
      "outputs": []
    },
    {
      "cell_type": "markdown",
      "source": [
        "### Visualize protein structure"
      ],
      "metadata": {
        "id": "eK1Ic780WBgc"
      }
    },
    {
      "cell_type": "code",
      "source": [
        "import py3Dmol\n",
        "\n",
        "# Read the PDB file content\n",
        "with open(f\"{protein_directory}/{pdb_id}.pdb\", \"r\") as file:\n",
        "    pdb_data = file.read()\n",
        "\n",
        "# Create a viewer object\n",
        "view = py3Dmol.view(width=800, height=600)\n",
        "view.addModel(pdb_data, \"pdb\")  # Load the PDB data\n",
        "\n",
        "# Apply styles based on residue names\n",
        "view.setStyle({\"resn\": \"13U\"}, {\"stick\": {\"colorscheme\": \"greenCarbon\"}})  # Ligand\n",
        "view.setStyle({\"resn\": \"HOH\"}, {\"sphere\": {\"radius\": 0.3, \"color\": \"blue\"}})  # Water\n",
        "view.setStyle({\"resn\": [\"ALA\", \"GLY\", \"SER\", \"THR\", \"LEU\", \"ILE\", \"VAL\", \"PHE\", \"TYR\", \"TRP\",\n",
        "                        \"ASP\", \"GLU\", \"ASN\", \"GLN\", \"LYS\", \"ARG\", \"HIS\", \"CYS\", \"MET\", \"PRO\"]},\n",
        "              {\"cartoon\": {\"color\": \"spectrum\"}})  # Protein\n",
        "\n",
        "view.zoomTo()  # Adjust the view to fit the molecule\n",
        "view.show()  # Display the viewer"
      ],
      "metadata": {
        "collapsed": true,
        "id": "Q-yHHVI9blJG"
      },
      "execution_count": null,
      "outputs": []
    },
    {
      "cell_type": "code",
      "source": [
        "import MDAnalysis as mda\n",
        "\n",
        "# Load into MDA universe\n",
        "u = mda.Universe(f\"{protein_directory}/{pdb_id}.pdb\")\n",
        "u"
      ],
      "metadata": {
        "id": "dKYCnoN4cDnO",
        "collapsed": true
      },
      "execution_count": null,
      "outputs": []
    },
    {
      "cell_type": "code",
      "source": [
        "# Select protein atoms\n",
        "protein = u.select_atoms(\"protein\")\n",
        "protein"
      ],
      "metadata": {
        "id": "iAqBEzl_cmd8",
        "collapsed": true
      },
      "execution_count": null,
      "outputs": []
    },
    {
      "cell_type": "code",
      "source": [
        "# Write protein to new PDB file\n",
        "protein.write(f\"{protein_directory}/protein_{pdb_id}.pdb\")"
      ],
      "metadata": {
        "id": "uKErPLdYipkr",
        "collapsed": true
      },
      "execution_count": null,
      "outputs": []
    },
    {
      "cell_type": "markdown",
      "source": [
        "### Fix protein structure"
      ],
      "metadata": {
        "id": "4lhTcTSAniIO"
      }
    },
    {
      "cell_type": "code",
      "source": [
        "! pdb2pqr --pdb-out=protein_structures/protein_h.pdb --pH=7.4 protein_structures/protein_2zq2.pdb protein_structures/protein_2zq2.pqr --whitespace"
      ],
      "metadata": {
        "collapsed": true,
        "id": "8hriRhWWkzru"
      },
      "execution_count": null,
      "outputs": []
    },
    {
      "cell_type": "code",
      "source": [
        "# Make a directory for pdb files\n",
        "pdbqt_directory = \"pdbqt\"\n",
        "os.makedirs(pdbqt_directory, exist_ok=True)\n",
        "\n",
        "# Generate pdbqt file\n",
        "u = mda.Universe(f\"{protein_directory}/protein_{pdb_id}.pqr\")\n",
        "u.atoms.write(f\"{pdbqt_directory}/{pdb_id}.pdbqt\")"
      ],
      "metadata": {
        "id": "Fa1EJ_kUoHoU",
        "collapsed": true
      },
      "execution_count": null,
      "outputs": []
    },
    {
      "cell_type": "code",
      "source": [
        "# Read in the just-written PDBQT file, replace text, and write back\n",
        "with open(f\"{pdbqt_directory}/{pdb_id}.pdbqt\", 'r') as file:\n",
        "  file_content = file.read()\n",
        "\n",
        "# Replace 'TITLE' and 'CRYST1' with 'REMARK'\n",
        "file_content = file_content.replace('TITLE', 'REMARK').replace('CRYST1', 'REMARK')\n",
        "\n",
        "# Write the modified content back to the file\n",
        "with open(f\"{pdbqt_directory}/{pdb_id}.pdbqt\", 'w') as file:\n",
        "  file.write(file_content)"
      ],
      "metadata": {
        "id": "pb-UkPlsq8CC"
      },
      "execution_count": null,
      "outputs": []
    },
    {
      "cell_type": "markdown",
      "source": [
        "### **Ligand preparation**"
      ],
      "metadata": {
        "id": "5d4JwjAJstmt"
      }
    },
    {
      "cell_type": "code",
      "source": [
        "# Download the ligand\n",
        "res13U_sdf = requests.get('https://files.rcsb.org/ligands/download/13U_ideal.sdf')\n",
        "res13U_sdf"
      ],
      "metadata": {
        "id": "713Q2mkWw8Xs",
        "collapsed": true
      },
      "execution_count": null,
      "outputs": []
    },
    {
      "cell_type": "code",
      "source": [
        "# Make a ligands folder & save ligand\n",
        "os.makedirs(\"ligands\", exist_ok=True)\n",
        "\n",
        "with open(\"ligands/13U_ideal.sdf\", \"w+\") as file:\n",
        "  file.write(res13U_sdf.text)"
      ],
      "metadata": {
        "id": "2AtldG3GxzT1"
      },
      "execution_count": null,
      "outputs": []
    },
    {
      "cell_type": "code",
      "source": [
        "# Read the sdf file\n",
        "file = open('ligands/13U_ideal.sdf', 'r')\n",
        "file_text = file.read()\n",
        "print(file_text)"
      ],
      "metadata": {
        "collapsed": true,
        "id": "5YjYy-gbzivG"
      },
      "execution_count": null,
      "outputs": []
    },
    {
      "cell_type": "code",
      "source": [
        "from rdkit import Chem\n",
        "from rdkit.Chem.Draw import IPythonConsole\n",
        "from rdkit.Chem import Draw\n",
        "\n",
        "# Configuration for displaying in Jupyter notebooks\n",
        "IPythonConsole.ipython_useSVG = True  # Use SVG for higher quality images\n",
        "IPythonConsole.drawOptions.addAtomIndices = True  # Show atom indices\n",
        "IPythonConsole.molSize = 600,600  # Set size of image\n",
        "\n",
        "# Show the structure of ligand\n",
        "ligand = Chem.MolFromMolFile(\"ligands/13U_ideal.sdf\")\n",
        "ligand"
      ],
      "metadata": {
        "id": "i00KIqxYsD9m",
        "collapsed": true
      },
      "execution_count": null,
      "outputs": []
    },
    {
      "cell_type": "markdown",
      "source": [
        "### Modify the ligand"
      ],
      "metadata": {
        "id": "bo7s7F8M3GFQ"
      }
    },
    {
      "cell_type": "code",
      "source": [
        "# Load a duplicate copy of 13U to manipulate\n",
        "mod_ligand_N = Chem.MolFromMolFile(\"ligands/13U_ideal.sdf\")\n",
        "\n",
        "# Change carbon in ring to a nitrogen\n",
        "mod_ligand_N.GetAtomWithIdx(23).SetAtomicNum(7)\n",
        "\n",
        "mod_ligand_N"
      ],
      "metadata": {
        "id": "ug7e2vclunrB",
        "collapsed": true
      },
      "execution_count": null,
      "outputs": []
    },
    {
      "cell_type": "code",
      "source": [
        "# Optimize new molecules & save\n",
        "from rdkit.Chem import AllChem\n",
        "\n",
        "Chem.SanitizeMol(mod_ligand_N)\n",
        "mod_ligand_NH = Chem.AddHs(mod_ligand_N)\n",
        "\n",
        "# Do a constrained embedding to keep the ligand in the same position\n",
        "# this allows for the hydrogens to be added in reasonable lcations, but keeps\n",
        "# the heavy atoms in the same position\n",
        "constrained_mol = AllChem.ConstrainedEmbed(mod_ligand_NH, mod_ligand_N, useTethers=True)\n",
        "constrained_mol"
      ],
      "metadata": {
        "id": "Q34POO504Tz_",
        "collapsed": true
      },
      "execution_count": null,
      "outputs": []
    },
    {
      "cell_type": "code",
      "source": [
        "# Perform geometry optimization\n",
        "opt_N = AllChem.MMFFOptimizeMolecule(mod_ligand_NH)\n",
        "mod_ligand_NH"
      ],
      "metadata": {
        "id": "JvIAxvVU58Ry",
        "collapsed": true
      },
      "execution_count": null,
      "outputs": []
    },
    {
      "cell_type": "code",
      "source": [
        "# Add hydrogens to 13U ligand\n",
        "ligand_H = Chem.MolFromMolFile(\"ligands/13U_ideal.sdf\", removeHs=False)\n",
        "\n",
        "# save modified ligands as sdf files\n",
        "Chem.MolToMolFile(ligand_H, 'ligands/13U.sdf')\n",
        "Chem.MolToMolFile(mod_ligand_NH, 'ligands/13U_modified_N.sdf')"
      ],
      "metadata": {
        "id": "LpfzbtXb6iPA",
        "collapsed": true
      },
      "execution_count": null,
      "outputs": []
    },
    {
      "cell_type": "code",
      "source": [
        "# Use meeko to prepare small molecules\n",
        "! mk_prepare_ligand.py -i ligands/13U.sdf -o pdbqt/13U.pdbqt\n",
        "! mk_prepare_ligand.py -i ligands/13U_modified_N.sdf -o pdbqt/13U_modified_N.sdf"
      ],
      "metadata": {
        "id": "CLiwyXAD-Qep",
        "collapsed": true
      },
      "execution_count": null,
      "outputs": []
    },
    {
      "cell_type": "markdown",
      "source": [
        "## **Docking with AutoDock Vina**"
      ],
      "metadata": {
        "id": "jO5lVHX3B0AX"
      }
    },
    {
      "cell_type": "markdown",
      "source": [
        "### Define ligand box"
      ],
      "metadata": {
        "id": "fBzC1UAiCOM9"
      }
    },
    {
      "cell_type": "code",
      "source": [
        "# Find the center of the ligand\n",
        "original_structure = mda.Universe(\"protein_structures/2zq2.pdb\")\n",
        "ligand_mda = original_structure.select_atoms(\"resname 13U\")\n",
        "\n",
        "# Get the center of the ligand as the pocket center\n",
        "pocket_center = ligand_mda.center_of_geometry()\n",
        "print(pocket_center)"
      ],
      "metadata": {
        "id": "re3dVVIv_FGn",
        "collapsed": true
      },
      "execution_count": null,
      "outputs": []
    },
    {
      "cell_type": "code",
      "source": [
        "# compute min & max coordinates of the ligand\n",
        "# take the ligand box to be the difference between the max & min in each direction\n",
        "ligand_box = ligand_mda.positions.max(axis=0) - ligand_mda.positions.min(axis=0) + 5\n",
        "ligand_box"
      ],
      "metadata": {
        "id": "4T_hsFqODMU9",
        "collapsed": true
      },
      "execution_count": null,
      "outputs": []
    },
    {
      "cell_type": "code",
      "source": [
        "# Convert to list\n",
        "pocket_center = pocket_center.tolist()\n",
        "ligand_box = ligand_box.tolist()"
      ],
      "metadata": {
        "id": "cfgubfkIDtdS"
      },
      "execution_count": null,
      "outputs": []
    },
    {
      "cell_type": "markdown",
      "source": [
        "### Docking ligands"
      ],
      "metadata": {
        "id": "PPBvw7MoEWG1"
      }
    },
    {
      "cell_type": "code",
      "source": [
        "# Define variables for ease\n",
        "pdb_id = \"2zq2\"\n",
        "ligand = \"13U\"\n",
        "\n",
        "# Make a directory for results\n",
        "os.makedirs(\"docking_results\", exist_ok=True)"
      ],
      "metadata": {
        "id": "NfH43c5NEHHi"
      },
      "execution_count": null,
      "outputs": []
    },
    {
      "cell_type": "code",
      "source": [
        "from vina import Vina\n",
        "v = Vina(sf_name=\"vina\")"
      ],
      "metadata": {
        "id": "XbhkmEpvF3J5"
      },
      "execution_count": null,
      "outputs": []
    },
    {
      "cell_type": "code",
      "source": [
        "v.set_receptor(f\"pdbqt/{pdb_id}.pdbqt\")\n",
        "v.set_ligand_from_file(f\"pdbqt/{ligand}.pdbqt\")\n",
        "v.compute_vina_maps(center=pocket_center, box_size=ligand_box)"
      ],
      "metadata": {
        "id": "eqnW9oDxF_Nq"
      },
      "execution_count": null,
      "outputs": []
    },
    {
      "cell_type": "code",
      "source": [
        "v.dock(exhaustiveness=5, n_poses=5)"
      ],
      "metadata": {
        "id": "maVzPZrJHfpY"
      },
      "execution_count": null,
      "outputs": []
    },
    {
      "cell_type": "code",
      "source": [
        "# Write poses to a file\n",
        "v.write_poses(f\"docking_results/{ligand}.pdbqt\", n_poses=5, overwrite=True)"
      ],
      "metadata": {
        "id": "3tBAaWPcHmxC"
      },
      "execution_count": null,
      "outputs": []
    },
    {
      "cell_type": "code",
      "source": [
        "# View calculated energies\n",
        "v.energies()"
      ],
      "metadata": {
        "id": "u2mNtYLrIPE4",
        "collapsed": true
      },
      "execution_count": null,
      "outputs": []
    },
    {
      "cell_type": "code",
      "source": [
        "# Convert energies to dataframe\n",
        "import pandas as pd\n",
        "\n",
        "column_names = [\"total\", \"inter\", \"intra\", \"torsions\", \"intra best pose\"]\n",
        "\n",
        "df = pd.DataFrame(v.energies(), columns=column_names)\n",
        "df.head()"
      ],
      "metadata": {
        "id": "pJRnhAUPIrfs",
        "collapsed": true
      },
      "execution_count": null,
      "outputs": []
    },
    {
      "cell_type": "code",
      "source": [
        "# Save the calculated energies from docking to a CSV file\n",
        "df.to_csv(\"docking_results/13U_energies.csv\", index=False)"
      ],
      "metadata": {
        "id": "Hilgw6NJJbB9"
      },
      "execution_count": null,
      "outputs": []
    },
    {
      "cell_type": "markdown",
      "source": [
        "## **Visualize docking results**"
      ],
      "metadata": {
        "id": "J8fWIDwlKPQo"
      }
    },
    {
      "cell_type": "code",
      "source": [
        "# Convert to sdf to view results\n",
        "! mk_export.py docking_results/13U.pdbqt -s docking_results/13U.sdf"
      ],
      "metadata": {
        "id": "1zcq_fg1KI4F"
      },
      "execution_count": null,
      "outputs": []
    },
    {
      "cell_type": "code",
      "source": [
        "import prolif as plf\n",
        "\n",
        "# Load protein using RDKit\n",
        "protein = Chem.MolFromPDBFile(\"protein_structures/protein_h.pdb\", removeHs=False)"
      ],
      "metadata": {
        "id": "d4MDouRnLvKG"
      },
      "execution_count": null,
      "outputs": []
    },
    {
      "cell_type": "code",
      "source": [
        "# Load protein & ligands to ProLIF\n",
        "protein_plf = plf.Molecule(protein)\n",
        "poses_plf = plf.sdf_supplier(\"docking_results/13U.sdf\")"
      ],
      "metadata": {
        "id": "W90cN4jbSAXq"
      },
      "execution_count": null,
      "outputs": []
    },
    {
      "cell_type": "code",
      "source": [
        "# Create molecular fingerprints\n",
        "fp = plf.Fingerprint(count=True)"
      ],
      "metadata": {
        "id": "ecIkxRXkTCd1"
      },
      "execution_count": null,
      "outputs": []
    },
    {
      "cell_type": "code",
      "source": [
        "# Run on your poses\n",
        "fp.run_from_iterable(poses_plf, protein_plf)"
      ],
      "metadata": {
        "id": "slE__oNhXG39",
        "collapsed": true
      },
      "execution_count": null,
      "outputs": []
    },
    {
      "cell_type": "code",
      "source": [
        "pose_index=1"
      ],
      "metadata": {
        "id": "6CJjIGlfXlNM"
      },
      "execution_count": null,
      "outputs": []
    },
    {
      "cell_type": "code",
      "source": [
        "# View 2D interaction map\n",
        "fp.plot_lignetwork(poses_plf[pose_index])"
      ],
      "metadata": {
        "collapsed": true,
        "id": "89yvZA1mXvaL"
      },
      "execution_count": null,
      "outputs": []
    },
    {
      "cell_type": "code",
      "source": [
        "view = fp.plot_3d(\n",
        "    poses_plf[pose_index], protein_plf, frame=pose_index, display_all=False\n",
        ")\n",
        "view"
      ],
      "metadata": {
        "collapsed": true,
        "id": "6mOUOiJwX0h3"
      },
      "execution_count": null,
      "outputs": []
    },
    {
      "cell_type": "markdown",
      "source": [
        "## **Exercise 3**"
      ],
      "metadata": {
        "id": "-jw_bIx7hkth"
      }
    },
    {
      "cell_type": "markdown",
      "source": [
        "Try docking 13U_modified_N into the protein. Compare results."
      ],
      "metadata": {
        "id": "D7J65SPGh4PK"
      }
    }
  ]
}