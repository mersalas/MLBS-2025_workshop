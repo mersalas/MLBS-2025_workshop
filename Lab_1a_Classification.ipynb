{
  "cells": [
    {
      "cell_type": "markdown",
      "metadata": {
        "id": "view-in-github",
        "colab_type": "text"
      },
      "source": [
        "<a href=\"https://colab.research.google.com/github/mersalas/MLBS-2025_workshop/blob/main/Lab_1a_Classification.ipynb\" target=\"_parent\"><img src=\"https://colab.research.google.com/assets/colab-badge.svg\" alt=\"Open In Colab\"/></a>"
      ]
    },
    {
      "cell_type": "markdown",
      "source": [
        "## **Import packages**"
      ],
      "metadata": {
        "id": "39orVmCDRieu"
      }
    },
    {
      "cell_type": "code",
      "source": [
        "# Install packages\n",
        "!pip install pca\n",
        "!pip install scikit-optimize"
      ],
      "metadata": {
        "id": "CkmbbUb9nmJd",
        "collapsed": true
      },
      "execution_count": null,
      "outputs": []
    },
    {
      "cell_type": "code",
      "execution_count": null,
      "metadata": {
        "id": "jNa1O2TXSusl"
      },
      "outputs": [],
      "source": [
        "# Import the necessary libraries\n",
        "import pandas as pd\n",
        "import numpy as np\n",
        "import seaborn as sns\n",
        "import matplotlib.pyplot as plt\n",
        "from pca import pca\n",
        "from sklearn.model_selection import train_test_split, StratifiedKFold\n",
        "from sklearn.preprocessing import StandardScaler\n",
        "from sklearn.linear_model import LogisticRegression\n",
        "from sklearn.neighbors import KNeighborsClassifier\n",
        "from sklearn.svm import SVC\n",
        "from sklearn.model_selection import GridSearchCV, RandomizedSearchCV\n",
        "from skopt import BayesSearchCV\n",
        "from skopt.plots import plot_objective\n",
        "from sklearn.model_selection import cross_validate\n",
        "from sklearn.metrics import precision_score, recall_score, accuracy_score, f1_score, auc, roc_auc_score, matthews_corrcoef, classification_report\n",
        "from sklearn.metrics import confusion_matrix, ConfusionMatrixDisplay, roc_curve, precision_recall_curve"
      ]
    },
    {
      "cell_type": "markdown",
      "source": [
        "## **Load dataset**"
      ],
      "metadata": {
        "id": "FiK6At1QSGP8"
      }
    },
    {
      "cell_type": "code",
      "execution_count": null,
      "metadata": {
        "id": "NUoCuHz3XUec"
      },
      "outputs": [],
      "source": [
        "# Fetch dataset\n",
        "from sklearn.datasets import load_breast_cancer # cancer dataset from sklearn\n",
        "cancer = load_breast_cancer()"
      ]
    },
    {
      "cell_type": "markdown",
      "source": [
        "## **Exploratory data analysis**"
      ],
      "metadata": {
        "id": "aTH-tQpfmAct"
      }
    },
    {
      "cell_type": "code",
      "source": [
        "#cancer\n",
        "#features = cancer.data\n",
        "#target = cancer.target"
      ],
      "metadata": {
        "id": "IVPH6_csTGs9"
      },
      "execution_count": null,
      "outputs": []
    },
    {
      "cell_type": "code",
      "execution_count": null,
      "metadata": {
        "id": "jCY6y9neXdCX"
      },
      "outputs": [],
      "source": [
        "# Transform dataset into dataframe\n",
        "cancer_df = pd.DataFrame(data = np.c_[cancer['data'], cancer['target']],\n",
        "                         columns = np.append(cancer['feature_names'], ['target']))"
      ]
    },
    {
      "cell_type": "code",
      "execution_count": null,
      "metadata": {
        "id": "LgADFjV0hNqB",
        "collapsed": true
      },
      "outputs": [],
      "source": [
        "cancer_df.head()"
      ]
    },
    {
      "cell_type": "code",
      "execution_count": null,
      "metadata": {
        "id": "8gjcRmlShTQd",
        "collapsed": true
      },
      "outputs": [],
      "source": [
        "# Know what each features mean\n",
        "print(\"cancer.DESCR:\\n{}\".format(cancer.DESCR))"
      ]
    },
    {
      "cell_type": "code",
      "source": [
        "# dimensions (rows, columns) or (samples, features+target)\n",
        "cancer_df.shape"
      ],
      "metadata": {
        "id": "5Xm9TNDTmuAw",
        "collapsed": true
      },
      "execution_count": null,
      "outputs": []
    },
    {
      "cell_type": "code",
      "source": [
        "# data types\n",
        "cancer_df.dtypes"
      ],
      "metadata": {
        "id": "ZkuI_GkRXFXD",
        "collapsed": true
      },
      "execution_count": null,
      "outputs": []
    },
    {
      "cell_type": "code",
      "source": [
        "# Check missing values\n",
        "cancer_df.isnull().sum()"
      ],
      "metadata": {
        "id": "sLOl1tYnolhf",
        "collapsed": true
      },
      "execution_count": null,
      "outputs": []
    },
    {
      "cell_type": "code",
      "source": [
        "# Count malignant & benign\n",
        "cancer_df['target'].value_counts()"
      ],
      "metadata": {
        "id": "4RxntsrCoK8F",
        "collapsed": true
      },
      "execution_count": null,
      "outputs": []
    },
    {
      "cell_type": "code",
      "source": [
        "# Look at 4 features at a time\n",
        "select_columns = ['mean radius', 'mean texture', 'mean perimeter', 'mean area', 'target']\n",
        "cancer_dataset_group1 = pd.DataFrame(cancer_df, columns=select_columns)\n",
        "cancer_dataset_group1.head()"
      ],
      "metadata": {
        "id": "cTQT-lb5qsG5",
        "collapsed": true
      },
      "execution_count": null,
      "outputs": []
    },
    {
      "cell_type": "code",
      "source": [
        "# Plot pairwise relationship\n",
        "sns.set(style=\"ticks\")\n",
        "df = cancer_dataset_group1\n",
        "sns.pairplot(df, hue=\"target\")"
      ],
      "metadata": {
        "id": "A6B5GgC3tZ-_",
        "collapsed": true
      },
      "execution_count": null,
      "outputs": []
    },
    {
      "cell_type": "code",
      "source": [
        "# Separating the features from the target\n",
        "X = cancer_df.iloc[:,0:30].values\n",
        "y = cancer_df['target'].values"
      ],
      "metadata": {
        "id": "ju2UkrIct0Yb"
      },
      "execution_count": null,
      "outputs": []
    },
    {
      "cell_type": "markdown",
      "source": [
        "### PCA"
      ],
      "metadata": {
        "id": "IE1NLDCqnzQj"
      }
    },
    {
      "cell_type": "code",
      "source": [
        "# Initialize pca\n",
        "model = pca(n_components=0.95, normalize=True)\n",
        "\n",
        "# Fit transform\n",
        "results = model.fit_transform(X)"
      ],
      "metadata": {
        "id": "FOcqiIVjOeku",
        "collapsed": true
      },
      "execution_count": null,
      "outputs": []
    },
    {
      "cell_type": "code",
      "source": [
        "# Screen plot\n",
        "model.plot(figsize=(10,8))\n",
        "plt.show()"
      ],
      "metadata": {
        "id": "nHzMVU5VoLTF",
        "collapsed": true
      },
      "execution_count": null,
      "outputs": []
    },
    {
      "cell_type": "code",
      "source": [
        "# Print the top features\n",
        "top = model.results['topfeat']\n",
        "best = top.loc[top['type']=='best']\n",
        "best"
      ],
      "metadata": {
        "id": "UrsoOSJpoS6o",
        "collapsed": true
      },
      "execution_count": null,
      "outputs": []
    },
    {
      "cell_type": "code",
      "source": [
        "# 2D scatter plot\n",
        "model.scatter(labels=y, SPE=True, legend=True, cmap='Set1', figsize=(15,10), dpi=300)"
      ],
      "metadata": {
        "id": "qzhbf-3YpgWn",
        "collapsed": true
      },
      "execution_count": null,
      "outputs": []
    },
    {
      "cell_type": "markdown",
      "source": [
        "### **Data pre-processing**"
      ],
      "metadata": {
        "id": "G01FmKSsFtaV"
      }
    },
    {
      "cell_type": "code",
      "source": [
        "# Normalize the data\n",
        "norm = StandardScaler()\n",
        "X_norm = norm.fit_transform(X)"
      ],
      "metadata": {
        "id": "o1awTvaTxQ6b"
      },
      "execution_count": null,
      "outputs": []
    },
    {
      "cell_type": "code",
      "source": [
        "# Split dataset into training & test set\n",
        "X_train, X_test, y_train, y_test = train_test_split(X_norm, y, test_size=0.20, stratify=y,\n",
        "                                                    random_state=42)\n",
        "\n",
        "print(\"Size of training set: {}   Size of test set:\"\n",
        "      \" {}\\n\".format(X_train.shape[0], X_test.shape[0]))"
      ],
      "metadata": {
        "id": "uTjIvc05qGKY",
        "collapsed": true
      },
      "execution_count": null,
      "outputs": []
    },
    {
      "cell_type": "markdown",
      "source": [
        "## **Train model**"
      ],
      "metadata": {
        "id": "IJrnoYVzFTmz"
      }
    },
    {
      "cell_type": "markdown",
      "source": [
        "### **Logit**"
      ],
      "metadata": {
        "id": "KCP5MBHf0GHI"
      }
    },
    {
      "cell_type": "code",
      "source": [
        "# Perform grid search to find optimum parameters for logit\n",
        "logit = LogisticRegression(max_iter=5000, random_state=42)\n",
        "param = {'C': np.logspace(-3,3,10)}\n",
        "logit_cv = GridSearchCV(logit, param, cv=10, n_jobs=-1)\n",
        "logit_cv.fit(X_train, y_train)\n",
        "\n",
        "print('best parameters: ', logit_cv.best_params_)\n",
        "print('best score afetr grid search cv: ', logit_cv.best_score_)"
      ],
      "metadata": {
        "id": "PbJe5da7u0B3",
        "collapsed": true
      },
      "execution_count": null,
      "outputs": []
    },
    {
      "cell_type": "code",
      "source": [
        "# Train logit\n",
        "logit_tuned = LogisticRegression(**logit_cv.best_params_, max_iter=5000, n_jobs=-1,\n",
        "                                 random_state=42)\n",
        "\n",
        "logit_tuned.fit(X_train, y_train)"
      ],
      "metadata": {
        "id": "QfNQyjvu0EDf",
        "collapsed": true
      },
      "execution_count": null,
      "outputs": []
    },
    {
      "cell_type": "code",
      "source": [
        "# Print intercept & coefficients\n",
        "print('intercept:', logit_tuned.intercept_ )\n",
        "print('coef:', logit_tuned.coef_, end='\\n')"
      ],
      "metadata": {
        "id": "PCtcBYtR9bPg",
        "collapsed": true
      },
      "execution_count": null,
      "outputs": []
    },
    {
      "cell_type": "code",
      "source": [
        "# Evaluate the logit model on the training set\n",
        "scoring = ['accuracy', 'precision', 'recall', 'f1', 'roc_auc', 'matthews_corrcoef']\n",
        "cv_results = cross_validate(logit_tuned, X_train, y_train, cv=10, scoring=scoring, n_jobs=-1)\n",
        "\n",
        "print(\"Performance of the logit model on the training set:\\nAcc: {:.4f}\\nPr: {:.4f}\\nSn: {:.4f}\\nF1: {:.4f}\\nMCC: {:.4f}\\nAUROC: {:.4f}\".format(\n",
        "    np.mean(cv_results['test_accuracy']),\n",
        "    np.mean(cv_results['test_precision']),\n",
        "    np.mean(cv_results['test_recall']),\n",
        "    np.mean(cv_results['test_f1']),\n",
        "    np.mean(cv_results['test_matthews_corrcoef']),\n",
        "    np.mean(cv_results['test_roc_auc'])\n",
        "))"
      ],
      "metadata": {
        "id": "Rb4itvuA9uyn",
        "collapsed": true
      },
      "execution_count": null,
      "outputs": []
    },
    {
      "cell_type": "markdown",
      "source": [
        "### **KNN**"
      ],
      "metadata": {
        "id": "FjI3Y1Awbd0h"
      }
    },
    {
      "cell_type": "code",
      "source": [
        "# Perform random search to find the optimum parameters for KNN\n",
        "knn = KNeighborsClassifier()\n",
        "param = {'n_neighbors': range(5, 20), 'weights': ['uniform', 'distance'],\n",
        "         'metric': ['minkowski', 'manhattan', 'euclidean']}\n",
        "knn_cv = RandomizedSearchCV(knn, param, cv=10, n_jobs=-1, random_state=42)\n",
        "knn_cv.fit(X_train, y_train)\n",
        "\n",
        "print('best parameters: ', knn_cv.best_params_)\n",
        "print('best score after random search cv:', knn_cv.best_score_)"
      ],
      "metadata": {
        "id": "LBsXx9KaXF5S",
        "collapsed": true
      },
      "execution_count": null,
      "outputs": []
    },
    {
      "cell_type": "code",
      "source": [
        "# Find the optimum k\n",
        "train_acc = []\n",
        "test_acc = []\n",
        "\n",
        "# try n_neighbors from 1 to 30\n",
        "neighbors_settings = range(1,30)\n",
        "\n",
        "for n_neighbors in neighbors_settings:\n",
        "  # build the model\n",
        "  knn = KNeighborsClassifier(n_neighbors=n_neighbors)\n",
        "  knn.fit(X_train, y_train)\n",
        "\n",
        "  # record training set accuracy\n",
        "  train_acc.append(knn.score(X_train, y_train))\n",
        "\n",
        "  # record generalization accuracy\n",
        "  test_acc.append(knn.score(X_test, y_test))\n",
        "\n",
        "plt.plot(neighbors_settings, train_acc, label=\"training accuracy\")\n",
        "plt.plot(neighbors_settings, test_acc, label=\"test accuracy\")\n",
        "plt.ylabel(\"Accuracy\")\n",
        "plt.xlabel(\"n_neighbors\")\n",
        "plt.legend()"
      ],
      "metadata": {
        "id": "nBnMOpNHdZAo",
        "collapsed": true
      },
      "execution_count": null,
      "outputs": []
    },
    {
      "cell_type": "code",
      "source": [
        "# Train KNN\n",
        "knn_tuned = KNeighborsClassifier(n_neighbors=7, weights='distance', p=2,\n",
        "                                 metric='euclidean', n_jobs=-1)\n",
        "\n",
        "knn_tuned.fit(X_train, y_train)"
      ],
      "metadata": {
        "id": "3NgJyKQXhShm",
        "collapsed": true
      },
      "execution_count": null,
      "outputs": []
    },
    {
      "cell_type": "code",
      "source": [
        "# Evaluate the KNN model on the training set\n",
        "scoring = ['accuracy', 'precision', 'recall', 'f1', 'roc_auc', 'matthews_corrcoef']\n",
        "cv_results = cross_validate(knn_tuned, X_train, y_train, cv=10, scoring=scoring, n_jobs=-1)\n",
        "\n",
        "print(\"Performance of the KNN model on the training set:\\nAcc: {:.4f}\\nPr: {:.4f}\\nSn: {:.4f}\\nF1: {:.4f}\\nMCC: {:.4f}\\nAUROC: {:.4f}\".format(\n",
        "    np.mean(cv_results['test_accuracy']),\n",
        "    np.mean(cv_results['test_precision']),\n",
        "    np.mean(cv_results['test_recall']),\n",
        "    np.mean(cv_results['test_f1']),\n",
        "    np.mean(cv_results['test_matthews_corrcoef']),\n",
        "    np.mean(cv_results['test_roc_auc'])\n",
        "))"
      ],
      "metadata": {
        "id": "gVe2WFXEh_uG",
        "collapsed": true
      },
      "execution_count": null,
      "outputs": []
    },
    {
      "cell_type": "markdown",
      "source": [
        "### **SVC**"
      ],
      "metadata": {
        "id": "I0AZdx5Jm_og"
      }
    },
    {
      "cell_type": "code",
      "source": [
        "# Perform Bayesian search to find optimum parameters for SVC\n",
        "svc = SVC(random_state=42, kernel='rbf')\n",
        "\n",
        "param = {'C': (1e-3, 1e1, 'log-uniform'),\n",
        "         'gamma': (1e-3,1, 'log-uniform')}\n",
        "\n",
        "cv = StratifiedKFold(n_splits=10, shuffle=True, random_state=42)\n",
        "svc_cv = BayesSearchCV(estimator=svc, search_spaces=param, cv=cv, scoring='roc_auc',\n",
        "                       n_jobs=-1, random_state=42)\n",
        "svc_cv.fit(X_train, y_train)\n",
        "\n",
        "print('best parameters: ', svc_cv.best_params_)\n",
        "print('best score after search cv:', svc_cv.best_score_)"
      ],
      "metadata": {
        "id": "YEyCy_SHjfRc",
        "collapsed": true
      },
      "execution_count": null,
      "outputs": []
    },
    {
      "cell_type": "code",
      "source": [
        "# Plot the Bayesian objective function\n",
        "fig, ax = plt.subplots(figsize=(10,8))\n",
        "plot_objective(svc_cv.optimizer_results_[0], ax=ax)\n",
        "plt.show()"
      ],
      "metadata": {
        "id": "2Y_5KSp6m-y3",
        "collapsed": true
      },
      "execution_count": null,
      "outputs": []
    },
    {
      "cell_type": "code",
      "source": [
        "# Train SVC\n",
        "svc_tuned = SVC(kernel='rbf', **svc_cv.best_params_, probability=True, random_state=42)\n",
        "\n",
        "svc_tuned.fit(X_train, y_train)"
      ],
      "metadata": {
        "id": "Ab3mdL3-sw4t",
        "collapsed": true
      },
      "execution_count": null,
      "outputs": []
    },
    {
      "cell_type": "code",
      "source": [
        "# Evaluate the SVC model on the training set\n",
        "scoring = ['accuracy', 'precision', 'recall', 'f1', 'roc_auc', 'matthews_corrcoef']\n",
        "cv_results = cross_validate(svc_tuned, X_train, y_train, cv=10, scoring=scoring, n_jobs=-1)\n",
        "\n",
        "print(\"Performance of the SVC model on the training set:\\nAcc: {:.4f}\\nPr: {:.4f}\\nSn: {:.4f}\\nF1: {:.4f}\\nMCC: {:.4f}\\nAUROC: {:.4f}\".format(\n",
        "    np.mean(cv_results['test_accuracy']),\n",
        "    np.mean(cv_results['test_precision']),\n",
        "    np.mean(cv_results['test_recall']),\n",
        "    np.mean(cv_results['test_f1']),\n",
        "    np.mean(cv_results['test_matthews_corrcoef']),\n",
        "    np.mean(cv_results['test_roc_auc'])\n",
        "))"
      ],
      "metadata": {
        "id": "3wiQwKyFuDcg",
        "collapsed": true
      },
      "execution_count": null,
      "outputs": []
    },
    {
      "cell_type": "markdown",
      "source": [
        "## **Evaluation**"
      ],
      "metadata": {
        "id": "xsxr9I2xBpCe"
      }
    },
    {
      "cell_type": "markdown",
      "source": [
        "### **PR curves**"
      ],
      "metadata": {
        "id": "HF1lbN7WHS36"
      }
    },
    {
      "cell_type": "code",
      "source": [
        "# Calculate decision function or probabilities for each model\n",
        "y_thres_logit = logit_tuned.decision_function(X_test)\n",
        "y_proba_knn = knn_tuned.predict_proba(X_test)[:, 1]\n",
        "y_thres_svc = svc_tuned.decision_function(X_test)\n",
        "\n",
        "# Calculate precision & recall for each model\n",
        "precision_logit, recall_logit, _ = precision_recall_curve(y_test, y_thres_logit)\n",
        "precision_knn, recall_knn, _ = precision_recall_curve(y_test, y_proba_knn)\n",
        "precision_svc, recall_svc, _ = precision_recall_curve(y_test, y_thres_svc)\n",
        "\n",
        "# Function to plot precision-recall curve\n",
        "def plot_PR_curve(precision, recall, label=None):\n",
        "  plt.plot(recall, precision, linewidth=2, label=label)\n",
        "  plt.xticks(fontsize=10)\n",
        "  plt.yticks(fontsize=10)\n",
        "  plt.ylabel('Precision', fontsize=12)\n",
        "  plt.xlabel('Recall', fontsize=12)\n",
        "  plt.grid(False)\n",
        "\n",
        "# Plot PR curves for all models\n",
        "plt.figure(figsize=(6,5))\n",
        "plot_PR_curve(precision_logit, recall_logit, \"logit\")\n",
        "plot_PR_curve(precision_knn, recall_knn, \"KNN\")\n",
        "plot_PR_curve(precision_svc, recall_svc, \"SVC\")\n",
        "\n",
        "plt.legend(loc=\"best\", fontsize=12)\n",
        "plt.show()"
      ],
      "metadata": {
        "id": "JacM9fuxugoY",
        "collapsed": true
      },
      "execution_count": null,
      "outputs": []
    },
    {
      "cell_type": "markdown",
      "source": [
        "### **ROC curves**"
      ],
      "metadata": {
        "id": "HidmJD1rOxD2"
      }
    },
    {
      "cell_type": "code",
      "source": [
        "# Calculate ROC curves and AUC for each model\n",
        "fpr, tpr, thresholds = roc_curve(y_test, y_thres_logit)\n",
        "auroc = auc(fpr, tpr)\n",
        "\n",
        "fpr_knn, tpr_knn, thresholds_knn = roc_curve(y_test, y_proba_knn)\n",
        "auroc_knn = auc(fpr_knn, tpr_knn)\n",
        "\n",
        "fpr_svc, tpr_svc, thresholds_svc = roc_curve(y_test, y_thres_svc)\n",
        "auroc_svc = auc(fpr_svc, tpr_svc)\n",
        "\n",
        "# Defin a function to plot the ROC curve\n",
        "def plot_roc_curve(fpr, tpr, auroc, label=None):\n",
        "  plt.plot(fpr, tpr, linewidth=2, label=f'{label} (AUROC = {auroc:.4f})')\n",
        "  plt.plot([0, 1], [0, 1], 'k--')  # Dashed diagonal\n",
        "  plt.xticks(fontsize=10)\n",
        "  plt.yticks(fontsize=10)\n",
        "  plt.ylabel('True Positive Rate', fontsize=12)\n",
        "  plt.xlabel('False Positive Rate', fontsize=12)\n",
        "  plt.grid(False)\n",
        "\n",
        "# Plot all ROC curves\n",
        "plt.figure(figsize=(6,5))\n",
        "plot_roc_curve(fpr, tpr, auroc, \"logit\")\n",
        "plot_roc_curve(fpr_knn, tpr_knn, auroc_knn, \"KNN\")\n",
        "plot_roc_curve(fpr_svc, tpr_svc, auroc_svc, \"SVC\")\n",
        "\n",
        "plt.legend(loc=\"best\", fontsize=12)\n",
        "plt.savefig('ROC.jpg', format='jpg', dpi=300, bbox_inches='tight')\n",
        "plt.show()"
      ],
      "metadata": {
        "id": "x1nCii8MNfTb",
        "collapsed": true
      },
      "execution_count": null,
      "outputs": []
    },
    {
      "cell_type": "code",
      "source": [
        "# Evaluate the SVC model on the test set\n",
        "y_pred_svc = svc_tuned.predict(X_test)\n",
        "y_proba_svc = svc_tuned.predict_proba(X_test)[:, 1]\n",
        "\n",
        "print(\"Performance of the SVC model on the test set:\")\n",
        "print(\"Acc: {:.4f}\".format(accuracy_score(y_test, y_pred_svc)))\n",
        "print(\"Pr: {:.4f}\".format(precision_score(y_test, y_pred_svc)))\n",
        "print(\"Sn: {:.4f}\".format(recall_score(y_test, y_pred_svc)))\n",
        "print(\"F1: {:.4f}\".format(f1_score(y_test, y_pred_svc)))\n",
        "print(\"MCC: {:.4f}\".format(matthews_corrcoef(y_test, y_pred_svc)))\n",
        "print(\"AUROC: {:.4f}\".format(roc_auc_score(y_test, y_proba_svc)))"
      ],
      "metadata": {
        "id": "2hr5en5XuMYq",
        "collapsed": true
      },
      "execution_count": null,
      "outputs": []
    },
    {
      "cell_type": "code",
      "source": [
        "# Print classification report for svc\n",
        "print(classification_report(y_test, y_pred_svc))"
      ],
      "metadata": {
        "id": "PTWTmKFgVIHu",
        "collapsed": true
      },
      "execution_count": null,
      "outputs": []
    },
    {
      "cell_type": "code",
      "source": [
        "# Plot confusion matrix for svc model\n",
        "cm = confusion_matrix(y_test, y_pred_svc, labels=svc_tuned.classes_)\n",
        "disp = ConfusionMatrixDisplay(confusion_matrix=cm, display_labels=svc_tuned.classes_)\n",
        "disp.plot()"
      ],
      "metadata": {
        "id": "t56gVmSzV5h6",
        "collapsed": true
      },
      "execution_count": null,
      "outputs": []
    },
    {
      "cell_type": "markdown",
      "source": [
        "### **Extract best features**"
      ],
      "metadata": {
        "id": "QAduzd-HmkfI"
      }
    },
    {
      "cell_type": "code",
      "source": [
        "# Convert the feature‑position strings to integer indices\n",
        "best_indices = best['feature'].astype(int).tolist()\n",
        "print(\"Best feature positions:\", best_indices)\n",
        "\n",
        "# Map those indices to the real column names in cancer_df\n",
        "best_feature_names = cancer_df.columns[best_indices].tolist()\n",
        "print(\"Best feature names:\", best_feature_names)"
      ],
      "metadata": {
        "id": "g6sW5UC-sZvP",
        "collapsed": true
      },
      "execution_count": null,
      "outputs": []
    },
    {
      "cell_type": "code",
      "source": [
        "# Subset cancer_df by those column names\n",
        "X_select = cancer_df[best_feature_names]\n",
        "X_select"
      ],
      "metadata": {
        "id": "3njrcRle029l",
        "collapsed": true
      },
      "execution_count": null,
      "outputs": []
    },
    {
      "cell_type": "code",
      "source": [
        "# Save in GDrive\n",
        "csv_path = '/content/X_select.csv'\n",
        "X_select.to_csv(csv_path, index=False)"
      ],
      "metadata": {
        "id": "kxXb6QbZ1dUr"
      },
      "execution_count": null,
      "outputs": []
    },
    {
      "cell_type": "code",
      "source": [
        "X_select = pd.read_csv('/content/X_select.csv')\n",
        "X_select"
      ],
      "metadata": {
        "id": "UIRYvpHk8rQT",
        "collapsed": true
      },
      "execution_count": null,
      "outputs": []
    },
    {
      "cell_type": "markdown",
      "source": [
        "### **Exercise 1a**"
      ],
      "metadata": {
        "id": "Sqtm7bmN-8fY"
      }
    },
    {
      "cell_type": "markdown",
      "source": [
        "\n",
        "\n",
        "*   Perform EDA on X_select dataset\n",
        "*   Build a random forest classifier for the dataset\n",
        "\n",
        "\n",
        "\n"
      ],
      "metadata": {
        "id": "I76T1x8-_LG3"
      }
    },
    {
      "cell_type": "markdown",
      "source": [
        "Sumbit your outputs here:\n",
        "https://drive.google.com/drive/folders/1RCn-8HnAnIbNp2sAwtfptaMoDAUXSeQM?usp=sharing"
      ],
      "metadata": {
        "id": "WUl3b6KyIncP"
      }
    }
  ],
  "metadata": {
    "colab": {
      "provenance": [],
      "mount_file_id": "1Vx6XrXdBQI1V8xb-CBUx4w1GPRTw2Ugl",
      "authorship_tag": "ABX9TyMs/5u/W7YbrdkbTXDb2QPX",
      "include_colab_link": true
    },
    "kernelspec": {
      "display_name": "Python 3",
      "name": "python3"
    },
    "language_info": {
      "name": "python"
    }
  },
  "nbformat": 4,
  "nbformat_minor": 0
}