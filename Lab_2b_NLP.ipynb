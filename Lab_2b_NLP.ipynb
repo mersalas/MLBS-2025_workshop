{
  "nbformat": 4,
  "nbformat_minor": 0,
  "metadata": {
    "colab": {
      "provenance": [],
      "gpuType": "T4",
      "mount_file_id": "1LPAEA4nNVaYZwylxoBkTTsXa8M7qQoMg",
      "authorship_tag": "ABX9TyPzLTeSKJM4MYlajlGb+oKd",
      "include_colab_link": true
    },
    "kernelspec": {
      "name": "python3",
      "display_name": "Python 3"
    },
    "language_info": {
      "name": "python"
    },
    "accelerator": "GPU"
  },
  "cells": [
    {
      "cell_type": "markdown",
      "metadata": {
        "id": "view-in-github",
        "colab_type": "text"
      },
      "source": [
        "<a href=\"https://colab.research.google.com/github/mersalas/MLBS-2025_workshop/blob/main/Lab_2b_NLP.ipynb\" target=\"_parent\"><img src=\"https://colab.research.google.com/assets/colab-badge.svg\" alt=\"Open In Colab\"/></a>"
      ]
    },
    {
      "cell_type": "code",
      "execution_count": null,
      "metadata": {
        "id": "ES3WW6rPN5RY"
      },
      "outputs": [],
      "source": [
        "from fastai.text.all import *\n",
        "import pandas as pd"
      ]
    },
    {
      "cell_type": "markdown",
      "source": [
        "Download the [Coronavirus tweets NLP](https://www.kaggle.com/datasets/datatattle/covid-19-nlp-text-classification)"
      ],
      "metadata": {
        "id": "t-hbdFfgQD2q"
      }
    },
    {
      "cell_type": "code",
      "source": [
        "# Unzip folder\n",
        "from zipfile import ZipFile\n",
        "with ZipFile(\"/content/corona_tweet.zip\", \"r\") as archive:\n",
        "             archive.extractall(\"corona_tweet\")"
      ],
      "metadata": {
        "id": "51L6qyNNP8uJ"
      },
      "execution_count": null,
      "outputs": []
    },
    {
      "cell_type": "code",
      "source": [
        "# Read csv file\n",
        "text_df = pd.read_csv(\"/content/corona_tweet/Corona_NLP_test.csv\", encoding='latin1')"
      ],
      "metadata": {
        "id": "_wk0WAyoQ3sC"
      },
      "execution_count": null,
      "outputs": []
    },
    {
      "cell_type": "code",
      "source": [
        "# Output first 5 rows\n",
        "text_df.head()"
      ],
      "metadata": {
        "colab": {
          "base_uri": "https://localhost:8080/",
          "height": 573
        },
        "id": "kI8Ga8HcRXYd",
        "outputId": "9885fbbd-ab2d-4559-c665-5629e25ff3d5",
        "collapsed": true
      },
      "execution_count": null,
      "outputs": [
        {
          "output_type": "execute_result",
          "data": {
            "text/plain": [
              "   UserName  ScreenName             Location     TweetAt  \\\n",
              "0         1       44953                  NYC  02-03-2020   \n",
              "1         2       44954          Seattle, WA  02-03-2020   \n",
              "2         3       44955                  NaN  02-03-2020   \n",
              "3         4       44956          Chicagoland  02-03-2020   \n",
              "4         5       44957  Melbourne, Victoria  03-03-2020   \n",
              "\n",
              "                                                                                                                                                                                                                                                                                                                                   OriginalTweet  \\\n",
              "0                                                                                                           TRENDING: New Yorkers encounter empty supermarket shelves (pictured, Wegmans in Brooklyn), sold-out online grocers (FoodKick, MaxDelivery) as #coronavirus-fearing shoppers stock up https://t.co/Gr76pcrLWh https://t.co/ivMKMsqdT1   \n",
              "1                                                                                                                                              When I couldn't find hand sanitizer at Fred Meyer, I turned to #Amazon. But $114.97 for a 2 pack of Purell??!!Check out how  #coronavirus concerns are driving up prices. https://t.co/ygbipBflMY   \n",
              "2                                                                                                                                                                                                                                                                      Find out how you can protect yourself and loved ones from #coronavirus. ?   \n",
              "3  #Panic buying hits #NewYork City as anxious shoppers stock up on food&amp;medical supplies after #healthcare worker in her 30s becomes #BigApple 1st confirmed #coronavirus patient OR a #Bloomberg staged event?\\r\\r\\n\\r\\r\\nhttps://t.co/IASiReGPC4\\r\\r\\n\\r\\r\\n#QAnon #QAnon2018 #QAnon2020 \\r\\r\\n#Election2020 #CDC https://t.co/29isZOewxu   \n",
              "4                                                                                   #toiletpaper #dunnypaper #coronavirus #coronavirusaustralia #CoronaVirusUpdate #Covid_19 #9News  #Corvid19 #7NewsMelb #dunnypapergate #Costco    One week everyone buying baby milk powder the next everyone buying up toilet paper. https://t.co/ScZryVvsIh   \n",
              "\n",
              "            Sentiment  \n",
              "0  Extremely Negative  \n",
              "1            Positive  \n",
              "2  Extremely Positive  \n",
              "3            Negative  \n",
              "4             Neutral  "
            ],
            "text/html": [
              "\n",
              "  <div id=\"df-2ae1c2a7-3217-4a31-938f-73f83511aef5\" class=\"colab-df-container\">\n",
              "    <div>\n",
              "<style scoped>\n",
              "    .dataframe tbody tr th:only-of-type {\n",
              "        vertical-align: middle;\n",
              "    }\n",
              "\n",
              "    .dataframe tbody tr th {\n",
              "        vertical-align: top;\n",
              "    }\n",
              "\n",
              "    .dataframe thead th {\n",
              "        text-align: right;\n",
              "    }\n",
              "</style>\n",
              "<table border=\"1\" class=\"dataframe\">\n",
              "  <thead>\n",
              "    <tr style=\"text-align: right;\">\n",
              "      <th></th>\n",
              "      <th>UserName</th>\n",
              "      <th>ScreenName</th>\n",
              "      <th>Location</th>\n",
              "      <th>TweetAt</th>\n",
              "      <th>OriginalTweet</th>\n",
              "      <th>Sentiment</th>\n",
              "    </tr>\n",
              "  </thead>\n",
              "  <tbody>\n",
              "    <tr>\n",
              "      <th>0</th>\n",
              "      <td>1</td>\n",
              "      <td>44953</td>\n",
              "      <td>NYC</td>\n",
              "      <td>02-03-2020</td>\n",
              "      <td>TRENDING: New Yorkers encounter empty supermarket shelves (pictured, Wegmans in Brooklyn), sold-out online grocers (FoodKick, MaxDelivery) as #coronavirus-fearing shoppers stock up https://t.co/Gr76pcrLWh https://t.co/ivMKMsqdT1</td>\n",
              "      <td>Extremely Negative</td>\n",
              "    </tr>\n",
              "    <tr>\n",
              "      <th>1</th>\n",
              "      <td>2</td>\n",
              "      <td>44954</td>\n",
              "      <td>Seattle, WA</td>\n",
              "      <td>02-03-2020</td>\n",
              "      <td>When I couldn't find hand sanitizer at Fred Meyer, I turned to #Amazon. But $114.97 for a 2 pack of Purell??!!Check out how  #coronavirus concerns are driving up prices. https://t.co/ygbipBflMY</td>\n",
              "      <td>Positive</td>\n",
              "    </tr>\n",
              "    <tr>\n",
              "      <th>2</th>\n",
              "      <td>3</td>\n",
              "      <td>44955</td>\n",
              "      <td>NaN</td>\n",
              "      <td>02-03-2020</td>\n",
              "      <td>Find out how you can protect yourself and loved ones from #coronavirus. ?</td>\n",
              "      <td>Extremely Positive</td>\n",
              "    </tr>\n",
              "    <tr>\n",
              "      <th>3</th>\n",
              "      <td>4</td>\n",
              "      <td>44956</td>\n",
              "      <td>Chicagoland</td>\n",
              "      <td>02-03-2020</td>\n",
              "      <td>#Panic buying hits #NewYork City as anxious shoppers stock up on food&amp;amp;medical supplies after #healthcare worker in her 30s becomes #BigApple 1st confirmed #coronavirus patient OR a #Bloomberg staged event?\\r\\r\\n\\r\\r\\nhttps://t.co/IASiReGPC4\\r\\r\\n\\r\\r\\n#QAnon #QAnon2018 #QAnon2020 \\r\\r\\n#Election2020 #CDC https://t.co/29isZOewxu</td>\n",
              "      <td>Negative</td>\n",
              "    </tr>\n",
              "    <tr>\n",
              "      <th>4</th>\n",
              "      <td>5</td>\n",
              "      <td>44957</td>\n",
              "      <td>Melbourne, Victoria</td>\n",
              "      <td>03-03-2020</td>\n",
              "      <td>#toiletpaper #dunnypaper #coronavirus #coronavirusaustralia #CoronaVirusUpdate #Covid_19 #9News  #Corvid19 #7NewsMelb #dunnypapergate #Costco    One week everyone buying baby milk powder the next everyone buying up toilet paper. https://t.co/ScZryVvsIh</td>\n",
              "      <td>Neutral</td>\n",
              "    </tr>\n",
              "  </tbody>\n",
              "</table>\n",
              "</div>\n",
              "    <div class=\"colab-df-buttons\">\n",
              "\n",
              "  <div class=\"colab-df-container\">\n",
              "    <button class=\"colab-df-convert\" onclick=\"convertToInteractive('df-2ae1c2a7-3217-4a31-938f-73f83511aef5')\"\n",
              "            title=\"Convert this dataframe to an interactive table.\"\n",
              "            style=\"display:none;\">\n",
              "\n",
              "  <svg xmlns=\"http://www.w3.org/2000/svg\" height=\"24px\" viewBox=\"0 -960 960 960\">\n",
              "    <path d=\"M120-120v-720h720v720H120Zm60-500h600v-160H180v160Zm220 220h160v-160H400v160Zm0 220h160v-160H400v160ZM180-400h160v-160H180v160Zm440 0h160v-160H620v160ZM180-180h160v-160H180v160Zm440 0h160v-160H620v160Z\"/>\n",
              "  </svg>\n",
              "    </button>\n",
              "\n",
              "  <style>\n",
              "    .colab-df-container {\n",
              "      display:flex;\n",
              "      gap: 12px;\n",
              "    }\n",
              "\n",
              "    .colab-df-convert {\n",
              "      background-color: #E8F0FE;\n",
              "      border: none;\n",
              "      border-radius: 50%;\n",
              "      cursor: pointer;\n",
              "      display: none;\n",
              "      fill: #1967D2;\n",
              "      height: 32px;\n",
              "      padding: 0 0 0 0;\n",
              "      width: 32px;\n",
              "    }\n",
              "\n",
              "    .colab-df-convert:hover {\n",
              "      background-color: #E2EBFA;\n",
              "      box-shadow: 0px 1px 2px rgba(60, 64, 67, 0.3), 0px 1px 3px 1px rgba(60, 64, 67, 0.15);\n",
              "      fill: #174EA6;\n",
              "    }\n",
              "\n",
              "    .colab-df-buttons div {\n",
              "      margin-bottom: 4px;\n",
              "    }\n",
              "\n",
              "    [theme=dark] .colab-df-convert {\n",
              "      background-color: #3B4455;\n",
              "      fill: #D2E3FC;\n",
              "    }\n",
              "\n",
              "    [theme=dark] .colab-df-convert:hover {\n",
              "      background-color: #434B5C;\n",
              "      box-shadow: 0px 1px 3px 1px rgba(0, 0, 0, 0.15);\n",
              "      filter: drop-shadow(0px 1px 2px rgba(0, 0, 0, 0.3));\n",
              "      fill: #FFFFFF;\n",
              "    }\n",
              "  </style>\n",
              "\n",
              "    <script>\n",
              "      const buttonEl =\n",
              "        document.querySelector('#df-2ae1c2a7-3217-4a31-938f-73f83511aef5 button.colab-df-convert');\n",
              "      buttonEl.style.display =\n",
              "        google.colab.kernel.accessAllowed ? 'block' : 'none';\n",
              "\n",
              "      async function convertToInteractive(key) {\n",
              "        const element = document.querySelector('#df-2ae1c2a7-3217-4a31-938f-73f83511aef5');\n",
              "        const dataTable =\n",
              "          await google.colab.kernel.invokeFunction('convertToInteractive',\n",
              "                                                    [key], {});\n",
              "        if (!dataTable) return;\n",
              "\n",
              "        const docLinkHtml = 'Like what you see? Visit the ' +\n",
              "          '<a target=\"_blank\" href=https://colab.research.google.com/notebooks/data_table.ipynb>data table notebook</a>'\n",
              "          + ' to learn more about interactive tables.';\n",
              "        element.innerHTML = '';\n",
              "        dataTable['output_type'] = 'display_data';\n",
              "        await google.colab.output.renderOutput(dataTable, element);\n",
              "        const docLink = document.createElement('div');\n",
              "        docLink.innerHTML = docLinkHtml;\n",
              "        element.appendChild(docLink);\n",
              "      }\n",
              "    </script>\n",
              "  </div>\n",
              "\n",
              "\n",
              "<div id=\"df-3cc9577b-4143-46eb-978f-98283aa06cdc\">\n",
              "  <button class=\"colab-df-quickchart\" onclick=\"quickchart('df-3cc9577b-4143-46eb-978f-98283aa06cdc')\"\n",
              "            title=\"Suggest charts\"\n",
              "            style=\"display:none;\">\n",
              "\n",
              "<svg xmlns=\"http://www.w3.org/2000/svg\" height=\"24px\"viewBox=\"0 0 24 24\"\n",
              "     width=\"24px\">\n",
              "    <g>\n",
              "        <path d=\"M19 3H5c-1.1 0-2 .9-2 2v14c0 1.1.9 2 2 2h14c1.1 0 2-.9 2-2V5c0-1.1-.9-2-2-2zM9 17H7v-7h2v7zm4 0h-2V7h2v10zm4 0h-2v-4h2v4z\"/>\n",
              "    </g>\n",
              "</svg>\n",
              "  </button>\n",
              "\n",
              "<style>\n",
              "  .colab-df-quickchart {\n",
              "      --bg-color: #E8F0FE;\n",
              "      --fill-color: #1967D2;\n",
              "      --hover-bg-color: #E2EBFA;\n",
              "      --hover-fill-color: #174EA6;\n",
              "      --disabled-fill-color: #AAA;\n",
              "      --disabled-bg-color: #DDD;\n",
              "  }\n",
              "\n",
              "  [theme=dark] .colab-df-quickchart {\n",
              "      --bg-color: #3B4455;\n",
              "      --fill-color: #D2E3FC;\n",
              "      --hover-bg-color: #434B5C;\n",
              "      --hover-fill-color: #FFFFFF;\n",
              "      --disabled-bg-color: #3B4455;\n",
              "      --disabled-fill-color: #666;\n",
              "  }\n",
              "\n",
              "  .colab-df-quickchart {\n",
              "    background-color: var(--bg-color);\n",
              "    border: none;\n",
              "    border-radius: 50%;\n",
              "    cursor: pointer;\n",
              "    display: none;\n",
              "    fill: var(--fill-color);\n",
              "    height: 32px;\n",
              "    padding: 0;\n",
              "    width: 32px;\n",
              "  }\n",
              "\n",
              "  .colab-df-quickchart:hover {\n",
              "    background-color: var(--hover-bg-color);\n",
              "    box-shadow: 0 1px 2px rgba(60, 64, 67, 0.3), 0 1px 3px 1px rgba(60, 64, 67, 0.15);\n",
              "    fill: var(--button-hover-fill-color);\n",
              "  }\n",
              "\n",
              "  .colab-df-quickchart-complete:disabled,\n",
              "  .colab-df-quickchart-complete:disabled:hover {\n",
              "    background-color: var(--disabled-bg-color);\n",
              "    fill: var(--disabled-fill-color);\n",
              "    box-shadow: none;\n",
              "  }\n",
              "\n",
              "  .colab-df-spinner {\n",
              "    border: 2px solid var(--fill-color);\n",
              "    border-color: transparent;\n",
              "    border-bottom-color: var(--fill-color);\n",
              "    animation:\n",
              "      spin 1s steps(1) infinite;\n",
              "  }\n",
              "\n",
              "  @keyframes spin {\n",
              "    0% {\n",
              "      border-color: transparent;\n",
              "      border-bottom-color: var(--fill-color);\n",
              "      border-left-color: var(--fill-color);\n",
              "    }\n",
              "    20% {\n",
              "      border-color: transparent;\n",
              "      border-left-color: var(--fill-color);\n",
              "      border-top-color: var(--fill-color);\n",
              "    }\n",
              "    30% {\n",
              "      border-color: transparent;\n",
              "      border-left-color: var(--fill-color);\n",
              "      border-top-color: var(--fill-color);\n",
              "      border-right-color: var(--fill-color);\n",
              "    }\n",
              "    40% {\n",
              "      border-color: transparent;\n",
              "      border-right-color: var(--fill-color);\n",
              "      border-top-color: var(--fill-color);\n",
              "    }\n",
              "    60% {\n",
              "      border-color: transparent;\n",
              "      border-right-color: var(--fill-color);\n",
              "    }\n",
              "    80% {\n",
              "      border-color: transparent;\n",
              "      border-right-color: var(--fill-color);\n",
              "      border-bottom-color: var(--fill-color);\n",
              "    }\n",
              "    90% {\n",
              "      border-color: transparent;\n",
              "      border-bottom-color: var(--fill-color);\n",
              "    }\n",
              "  }\n",
              "</style>\n",
              "\n",
              "  <script>\n",
              "    async function quickchart(key) {\n",
              "      const quickchartButtonEl =\n",
              "        document.querySelector('#' + key + ' button');\n",
              "      quickchartButtonEl.disabled = true;  // To prevent multiple clicks.\n",
              "      quickchartButtonEl.classList.add('colab-df-spinner');\n",
              "      try {\n",
              "        const charts = await google.colab.kernel.invokeFunction(\n",
              "            'suggestCharts', [key], {});\n",
              "      } catch (error) {\n",
              "        console.error('Error during call to suggestCharts:', error);\n",
              "      }\n",
              "      quickchartButtonEl.classList.remove('colab-df-spinner');\n",
              "      quickchartButtonEl.classList.add('colab-df-quickchart-complete');\n",
              "    }\n",
              "    (() => {\n",
              "      let quickchartButtonEl =\n",
              "        document.querySelector('#df-3cc9577b-4143-46eb-978f-98283aa06cdc button');\n",
              "      quickchartButtonEl.style.display =\n",
              "        google.colab.kernel.accessAllowed ? 'block' : 'none';\n",
              "    })();\n",
              "  </script>\n",
              "</div>\n",
              "\n",
              "    </div>\n",
              "  </div>\n"
            ],
            "application/vnd.google.colaboratory.intrinsic+json": {
              "type": "dataframe",
              "variable_name": "text_df",
              "summary": "{\n  \"name\": \"text_df\",\n  \"rows\": 3798,\n  \"fields\": [\n    {\n      \"column\": \"UserName\",\n      \"properties\": {\n        \"dtype\": \"number\",\n        \"std\": 1096,\n        \"min\": 1,\n        \"max\": 3798,\n        \"num_unique_values\": 3798,\n        \"samples\": [\n          1071,\n          355,\n          882\n        ],\n        \"semantic_type\": \"\",\n        \"description\": \"\"\n      }\n    },\n    {\n      \"column\": \"ScreenName\",\n      \"properties\": {\n        \"dtype\": \"number\",\n        \"std\": 1096,\n        \"min\": 44953,\n        \"max\": 48750,\n        \"num_unique_values\": 3798,\n        \"samples\": [\n          46023,\n          45307,\n          45834\n        ],\n        \"semantic_type\": \"\",\n        \"description\": \"\"\n      }\n    },\n    {\n      \"column\": \"Location\",\n      \"properties\": {\n        \"dtype\": \"category\",\n        \"num_unique_values\": 1717,\n        \"samples\": [\n          \"Ottawa, Canada\",\n          \"Lebanon\",\n          \"HousePriceMania\"\n        ],\n        \"semantic_type\": \"\",\n        \"description\": \"\"\n      }\n    },\n    {\n      \"column\": \"TweetAt\",\n      \"properties\": {\n        \"dtype\": \"category\",\n        \"num_unique_values\": 15,\n        \"samples\": [\n          \"11-03-2020\",\n          \"13-03-2020\",\n          \"02-03-2020\"\n        ],\n        \"semantic_type\": \"\",\n        \"description\": \"\"\n      }\n    },\n    {\n      \"column\": \"OriginalTweet\",\n      \"properties\": {\n        \"dtype\": \"string\",\n        \"num_unique_values\": 3798,\n        \"samples\": [\n          \"At my local grocery store in New Hampshire... #coronavirus #Covid_19 #NationalEmergency https://t.co/AXuMBSfNU9\",\n          \"Seeing resellers sell masks, alcohols and other necessities in prices which are 5-15x more expensive compared to SRPs makes me wonder how can people be so heartless, insensitive, and opportunistic in these times of crisis. #COVID2019\",\n          \"Where did coronavirus come from, and where will it take us? An interview with Rob Wallace, author of Big Farms Make Big Flu\\r\\r\\n\\r\\r\\nhttps://t.co/Hqp68iu1iN https://t.co/dR4Ys2hCOy\"\n        ],\n        \"semantic_type\": \"\",\n        \"description\": \"\"\n      }\n    },\n    {\n      \"column\": \"Sentiment\",\n      \"properties\": {\n        \"dtype\": \"category\",\n        \"num_unique_values\": 5,\n        \"samples\": [\n          \"Positive\",\n          \"Neutral\",\n          \"Extremely Positive\"\n        ],\n        \"semantic_type\": \"\",\n        \"description\": \"\"\n      }\n    }\n  ]\n}"
            }
          },
          "metadata": {},
          "execution_count": 4
        }
      ]
    },
    {
      "cell_type": "code",
      "source": [
        "# Create dataloader\n",
        "dls = TextDataLoaders.from_df(text_df,\n",
        "                              text_col = 'OriginalTweet',\n",
        "                              label_col = 'Sentiment',\n",
        "                              valid_pct = 0.20,\n",
        "                              bs = 64)"
      ],
      "metadata": {
        "colab": {
          "base_uri": "https://localhost:8080/",
          "height": 17
        },
        "id": "bFYjE5kWTNVJ",
        "outputId": "3e156309-47ff-4afb-a931-b822d5be370a"
      },
      "execution_count": null,
      "outputs": [
        {
          "output_type": "display_data",
          "data": {
            "text/plain": [
              "<IPython.core.display.HTML object>"
            ],
            "text/html": [
              "\n",
              "<style>\n",
              "    /* Turns off some styling */\n",
              "    progress {\n",
              "        /* gets rid of default border in Firefox and Opera. */\n",
              "        border: none;\n",
              "        /* Needs to be in here for Safari polyfill so background images work as expected. */\n",
              "        background-size: auto;\n",
              "    }\n",
              "    progress:not([value]), progress:not([value])::-webkit-progress-bar {\n",
              "        background: repeating-linear-gradient(45deg, #7e7e7e, #7e7e7e 10px, #5c5c5c 10px, #5c5c5c 20px);\n",
              "    }\n",
              "    .progress-bar-interrupted, .progress-bar-interrupted::-webkit-progress-bar {\n",
              "        background: #F44336;\n",
              "    }\n",
              "</style>\n"
            ]
          },
          "metadata": {}
        },
        {
          "output_type": "display_data",
          "data": {
            "text/plain": [
              "<IPython.core.display.HTML object>"
            ],
            "text/html": []
          },
          "metadata": {}
        }
      ]
    },
    {
      "cell_type": "code",
      "source": [
        "dls.show_batch()"
      ],
      "metadata": {
        "colab": {
          "base_uri": "https://localhost:8080/",
          "height": 956
        },
        "id": "qA8zgPH_TsEQ",
        "outputId": "1ee3838f-6a4b-49b8-9c83-6716ec9b5b1c",
        "collapsed": true
      },
      "execution_count": null,
      "outputs": [
        {
          "output_type": "display_data",
          "data": {
            "text/plain": [
              "<IPython.core.display.HTML object>"
            ],
            "text/html": [
              "<table border=\"1\" class=\"dataframe\">\n",
              "  <thead>\n",
              "    <tr style=\"text-align: right;\">\n",
              "      <th></th>\n",
              "      <th>text</th>\n",
              "      <th>category</th>\n",
              "    </tr>\n",
              "  </thead>\n",
              "  <tbody>\n",
              "    <tr>\n",
              "      <th>0</th>\n",
              "      <td>xxbos xxmaj being xxmaj an xxmaj xxunk xxmaj during xxmaj covid-19 xxmaj is xxmaj horrible . xxmaj canât xxmaj go xxmaj to xxmaj the xxmaj xxunk xxmaj club xxmaj or xxmaj gym , xxmaj fights xxmaj are xxmaj being xxmaj cancelled . xxmaj diet xxmaj is xxmaj fucked xxmaj cause xxmaj you xxmaj canât xxmaj get xxmaj your xxmaj hands xxmaj on xxmaj decent xxmaj food xxmaj from xxmaj everyone xxmaj panic xxmaj buying xxmaj everything . xxmaj if xxmaj your xxmaj put xxmaj in xxmaj lockdown xxmaj your xxmaj run xxmaj will xxmaj be xxmaj your 3 xxmaj xxunk xxmaj xxunk . ? ?</td>\n",
              "      <td>Extremely Negative</td>\n",
              "    </tr>\n",
              "    <tr>\n",
              "      <th>1</th>\n",
              "      <td>xxbos xxup nyc xxmaj water . xxup is xxup cvs xxup price xxup gouging ? xxup is xxup their xxup mass xxup panic ? xxup this xxup citizen xxup xxunk xxup is xxup on xxup the xxup case . xxup going xxup where xxup no xxup one xxup wants xxup to xxup go … xxunk xxup for a xxup case xxup of xxup water xxup in xxup nyc . xxup its xxup getting xxup crazy . # coronavirusupdate # coronavirus # toiletpaper # xxup covid19 # toiletpapercrisis # xxunk # qanon # xxunk https : / / t.co / xxunk</td>\n",
              "      <td>Extremely Negative</td>\n",
              "    </tr>\n",
              "    <tr>\n",
              "      <th>2</th>\n",
              "      <td>xxbos xxmaj hey guys ! xxmaj schools closing after xxmaj tuesday for 3 weeks due to xxmaj covid-19 in my area so i xxunk xxmaj i 'd open a commission xxunk ! ! \\r\\r\\n\\r\\r\\n xxmaj xxunk xxrep 4 o xxunk \\r\\r\\n\\r\\r\\n xxup over xxup the xxup xxunk xxup xxunk xxrep 4 ! \\r\\r\\n\\r\\r\\n 5 xxmaj slots are open ! ! \\r\\r\\n\\r\\r\\n i charge $ 1 / hour xxunk \\r\\r\\n\\r\\r\\n xxup lots xxup more xxup info xxup in xxup thread xxrep 3 ! \\r\\r\\n xxmaj do consider xxunk : d https : / / t.co / xxunk</td>\n",
              "      <td>Positive</td>\n",
              "    </tr>\n",
              "    <tr>\n",
              "      <th>3</th>\n",
              "      <td>xxbos xxmaj if i do n't die from # xxup covid?19 it 's because i will die of starvation xxup because xxup stupid xxup xxunk xxup idiots xxup are xxup buying xxup all xxup the xxup food xxup even xxup though xxup they xxup have xxup enough xxup to xxup stock xxup for xxup they 're xxup non - xxunk xxup xxunk xxup that xxup they xxup wo n't xxup have \\r\\r\\n\\r\\r\\n xxup to xxup hell xxup with xxup humanity xxup and xxup the # coronavirus xxrep 3 ? https : / / t.co / xxunk</td>\n",
              "      <td>Extremely Negative</td>\n",
              "    </tr>\n",
              "    <tr>\n",
              "      <th>4</th>\n",
              "      <td>xxbos $ xxunk xxup go xxup out xxup and xxup stock xxup up xxup on xxup food xxup and xxup water xxup people xxrep 3 ! xxup better xxup safe xxup than xxup sorry ! $ xxunk $ xxrep 3 q $ xxunk $ xxunk $ xxunk $ xxunk $ fb $ amzn $ xxunk $ xxunk $ xxunk $ c $ xxunk $ spot $ xxunk $ xxunk $ xxunk $ xxunk # xxup xxunk # coronavirus # xxup covid19 # coronaalert # xxup breaking # xxunk https : / / t.co / xxunk</td>\n",
              "      <td>Extremely Positive</td>\n",
              "    </tr>\n",
              "    <tr>\n",
              "      <th>5</th>\n",
              "      <td>xxbos xxmaj news : xxmaj grocery stores canât keep food on the shelves . \\r\\r\\n\\r\\r\\n xxmaj mom : xxmaj should we stock up on food ? \\r\\r\\n xxmaj me : xxmaj na , xxmaj iâll just buy yâall some beans and rice . \\r\\r\\n\\r\\r\\n xxmaj xxunk at xxunk - shelves empty ? xxunk 2 bags of rice ? \\r\\r\\n\\r\\r\\n xxmaj mom : xxmaj nice they had rice , xxunk the beans . \\r\\r\\n xxmaj me : xxmaj um , so what xxunk was \\r\\r\\n▁ # xxmaj covid_19 https : / / t.co / xxunk</td>\n",
              "      <td>Positive</td>\n",
              "    </tr>\n",
              "    <tr>\n",
              "      <th>6</th>\n",
              "      <td>xxbos xxmaj just been to my local supermarket ! \\r\\r\\n xxmaj empty shelves .. ! ! \\r\\r\\n xxmaj no xxmaj rice , xxmaj no xxmaj pasta , xxmaj no xxmaj milk , xxmaj no xxmaj eggs , xxmaj no xxmaj kitchen xxmaj tissue , xxmaj no xxmaj toilet xxmaj paper , xxmaj no xxmaj handwash ! ! \\r\\r\\n xxmaj what the fuck is wrong with people ? ! ? \\r\\r\\n xxmaj just stop it ! ! xxmaj there 's no need , you selfish xxunk ! ! \\r\\r\\n▁ # panickbuying # xxmaj covid_19</td>\n",
              "      <td>Extremely Negative</td>\n",
              "    </tr>\n",
              "    <tr>\n",
              "      <th>7</th>\n",
              "      <td>xxbos xxmaj xxunk to world xxunk \\r\\r\\n 1 . xxmaj buy stocks in # xxmaj dog and # cat # xxmaj food \\r\\r\\n 2 . xxmaj go to # xxmaj grocery xxmaj store \\r\\r\\n 3 . xxmaj fill up cart with xxmaj dog and xxmaj cat food \\r\\r\\n 4 . xxmaj run around like a xxunk , maybe get into a xxunk \\r\\r\\n 5 . xxmaj get someone to video it all and post it to social media \\r\\r\\n 6 . xxmaj be # xxmaj rich \\r\\r\\n▁ # coronapocalypse # xxmaj covid_19</td>\n",
              "      <td>Negative</td>\n",
              "    </tr>\n",
              "    <tr>\n",
              "      <th>8</th>\n",
              "      <td>xxbos xxmaj in a xxmaj xxunk grocery store lineup , i said to my wife , \" this # coronavirus thing feels like xxmaj christmas to me \" . \\r\\r\\n\\r\\r\\n xxmaj why ? xxmaj she asked . ? \\r\\r\\n\\r\\r\\n \" i know it 's not xxunk \" i said \" but it seems everybody has stepped off their xxunk race xxunk &amp; &amp; are open to being human \" . \\r\\r\\n\\r\\r\\n i expect great xxunk . ? https : / / t.co / xxunk https : / / t.co / xxunk</td>\n",
              "      <td>Extremely Positive</td>\n",
              "    </tr>\n",
              "  </tbody>\n",
              "</table>"
            ]
          },
          "metadata": {}
        }
      ]
    },
    {
      "cell_type": "code",
      "source": [
        "# Create a LSTM learner\n",
        "learn = text_classifier_learner(dls,\n",
        "                                AWD_LSTM,\n",
        "                                drop_mult=0.5,\n",
        "                                metrics=[accuracy])"
      ],
      "metadata": {
        "id": "UzWahGDlTwiO"
      },
      "execution_count": null,
      "outputs": []
    },
    {
      "cell_type": "code",
      "source": [
        "# Find appropriate learning rate\n",
        "torch.serialization.add_safe_globals([L])\n",
        "learn.lr_find(suggest_funcs=(valley, slide))"
      ],
      "metadata": {
        "colab": {
          "base_uri": "https://localhost:8080/",
          "height": 472
        },
        "id": "xrVHUjuOUKMJ",
        "outputId": "08f6c9cb-ce03-4267-c8c7-cc03b63754d4",
        "collapsed": true
      },
      "execution_count": null,
      "outputs": [
        {
          "output_type": "display_data",
          "data": {
            "text/plain": [
              "<IPython.core.display.HTML object>"
            ],
            "text/html": [
              "\n",
              "<style>\n",
              "    /* Turns off some styling */\n",
              "    progress {\n",
              "        /* gets rid of default border in Firefox and Opera. */\n",
              "        border: none;\n",
              "        /* Needs to be in here for Safari polyfill so background images work as expected. */\n",
              "        background-size: auto;\n",
              "    }\n",
              "    progress:not([value]), progress:not([value])::-webkit-progress-bar {\n",
              "        background: repeating-linear-gradient(45deg, #7e7e7e, #7e7e7e 10px, #5c5c5c 10px, #5c5c5c 20px);\n",
              "    }\n",
              "    .progress-bar-interrupted, .progress-bar-interrupted::-webkit-progress-bar {\n",
              "        background: #F44336;\n",
              "    }\n",
              "</style>\n"
            ]
          },
          "metadata": {}
        },
        {
          "output_type": "display_data",
          "data": {
            "text/plain": [
              "<IPython.core.display.HTML object>"
            ],
            "text/html": []
          },
          "metadata": {}
        },
        {
          "output_type": "execute_result",
          "data": {
            "text/plain": [
              "SuggestedLRs(valley=0.00363078061491251, slide=0.019054606556892395)"
            ]
          },
          "metadata": {},
          "execution_count": 8
        },
        {
          "output_type": "display_data",
          "data": {
            "text/plain": [
              "<Figure size 640x480 with 1 Axes>"
            ],
            "image/png": "[encoded data removed]"
          },
          "metadata": {}
        }
      ]
    },
    {
      "cell_type": "code",
      "source": [
        "# Fine tune the model\n",
        "learn.fine_tune(4, 1e-1)"
      ],
      "metadata": {
        "id": "xa0qmMyYUbCb",
        "colab": {
          "base_uri": "https://localhost:8080/",
          "height": 238
        },
        "outputId": "4b164347-e988-43ae-8053-b1c2e33346c6",
        "collapsed": true
      },
      "execution_count": null,
      "outputs": [
        {
          "output_type": "display_data",
          "data": {
            "text/plain": [
              "<IPython.core.display.HTML object>"
            ],
            "text/html": [
              "\n",
              "<style>\n",
              "    /* Turns off some styling */\n",
              "    progress {\n",
              "        /* gets rid of default border in Firefox and Opera. */\n",
              "        border: none;\n",
              "        /* Needs to be in here for Safari polyfill so background images work as expected. */\n",
              "        background-size: auto;\n",
              "    }\n",
              "    progress:not([value]), progress:not([value])::-webkit-progress-bar {\n",
              "        background: repeating-linear-gradient(45deg, #7e7e7e, #7e7e7e 10px, #5c5c5c 10px, #5c5c5c 20px);\n",
              "    }\n",
              "    .progress-bar-interrupted, .progress-bar-interrupted::-webkit-progress-bar {\n",
              "        background: #F44336;\n",
              "    }\n",
              "</style>\n"
            ]
          },
          "metadata": {}
        },
        {
          "output_type": "display_data",
          "data": {
            "text/plain": [
              "<IPython.core.display.HTML object>"
            ],
            "text/html": [
              "<table border=\"1\" class=\"dataframe\">\n",
              "  <thead>\n",
              "    <tr style=\"text-align: left;\">\n",
              "      <th>epoch</th>\n",
              "      <th>train_loss</th>\n",
              "      <th>valid_loss</th>\n",
              "      <th>accuracy</th>\n",
              "      <th>time</th>\n",
              "    </tr>\n",
              "  </thead>\n",
              "  <tbody>\n",
              "    <tr>\n",
              "      <td>0</td>\n",
              "      <td>1.632297</td>\n",
              "      <td>1.481817</td>\n",
              "      <td>0.346509</td>\n",
              "      <td>00:03</td>\n",
              "    </tr>\n",
              "  </tbody>\n",
              "</table>"
            ]
          },
          "metadata": {}
        },
        {
          "output_type": "display_data",
          "data": {
            "text/plain": [
              "<IPython.core.display.HTML object>"
            ],
            "text/html": [
              "\n",
              "<style>\n",
              "    /* Turns off some styling */\n",
              "    progress {\n",
              "        /* gets rid of default border in Firefox and Opera. */\n",
              "        border: none;\n",
              "        /* Needs to be in here for Safari polyfill so background images work as expected. */\n",
              "        background-size: auto;\n",
              "    }\n",
              "    progress:not([value]), progress:not([value])::-webkit-progress-bar {\n",
              "        background: repeating-linear-gradient(45deg, #7e7e7e, #7e7e7e 10px, #5c5c5c 10px, #5c5c5c 20px);\n",
              "    }\n",
              "    .progress-bar-interrupted, .progress-bar-interrupted::-webkit-progress-bar {\n",
              "        background: #F44336;\n",
              "    }\n",
              "</style>\n"
            ]
          },
          "metadata": {}
        },
        {
          "output_type": "display_data",
          "data": {
            "text/plain": [
              "<IPython.core.display.HTML object>"
            ],
            "text/html": [
              "<table border=\"1\" class=\"dataframe\">\n",
              "  <thead>\n",
              "    <tr style=\"text-align: left;\">\n",
              "      <th>epoch</th>\n",
              "      <th>train_loss</th>\n",
              "      <th>valid_loss</th>\n",
              "      <th>accuracy</th>\n",
              "      <th>time</th>\n",
              "    </tr>\n",
              "  </thead>\n",
              "  <tbody>\n",
              "    <tr>\n",
              "      <td>0</td>\n",
              "      <td>1.452620</td>\n",
              "      <td>1.285520</td>\n",
              "      <td>0.433465</td>\n",
              "      <td>00:07</td>\n",
              "    </tr>\n",
              "    <tr>\n",
              "      <td>1</td>\n",
              "      <td>1.309572</td>\n",
              "      <td>1.159180</td>\n",
              "      <td>0.532279</td>\n",
              "      <td>00:07</td>\n",
              "    </tr>\n",
              "    <tr>\n",
              "      <td>2</td>\n",
              "      <td>1.119545</td>\n",
              "      <td>1.016264</td>\n",
              "      <td>0.602108</td>\n",
              "      <td>00:07</td>\n",
              "    </tr>\n",
              "    <tr>\n",
              "      <td>3</td>\n",
              "      <td>0.890236</td>\n",
              "      <td>1.049191</td>\n",
              "      <td>0.606061</td>\n",
              "      <td>00:07</td>\n",
              "    </tr>\n",
              "  </tbody>\n",
              "</table>"
            ]
          },
          "metadata": {}
        }
      ]
    },
    {
      "cell_type": "code",
      "source": [
        "# Show results\n",
        "learn.show_results()"
      ],
      "metadata": {
        "id": "o2a1Bn1dX05l",
        "colab": {
          "base_uri": "https://localhost:8080/",
          "height": 1000
        },
        "outputId": "1f4aedac-1a42-4983-bb78-f9949e20b8f9",
        "collapsed": true
      },
      "execution_count": null,
      "outputs": [
        {
          "output_type": "display_data",
          "data": {
            "text/plain": [
              "<IPython.core.display.HTML object>"
            ],
            "text/html": [
              "\n",
              "<style>\n",
              "    /* Turns off some styling */\n",
              "    progress {\n",
              "        /* gets rid of default border in Firefox and Opera. */\n",
              "        border: none;\n",
              "        /* Needs to be in here for Safari polyfill so background images work as expected. */\n",
              "        background-size: auto;\n",
              "    }\n",
              "    progress:not([value]), progress:not([value])::-webkit-progress-bar {\n",
              "        background: repeating-linear-gradient(45deg, #7e7e7e, #7e7e7e 10px, #5c5c5c 10px, #5c5c5c 20px);\n",
              "    }\n",
              "    .progress-bar-interrupted, .progress-bar-interrupted::-webkit-progress-bar {\n",
              "        background: #F44336;\n",
              "    }\n",
              "</style>\n"
            ]
          },
          "metadata": {}
        },
        {
          "output_type": "display_data",
          "data": {
            "text/plain": [
              "<IPython.core.display.HTML object>"
            ],
            "text/html": []
          },
          "metadata": {}
        },
        {
          "output_type": "display_data",
          "data": {
            "text/plain": [
              "<IPython.core.display.HTML object>"
            ],
            "text/html": [
              "<table border=\"1\" class=\"dataframe\">\n",
              "  <thead>\n",
              "    <tr style=\"text-align: right;\">\n",
              "      <th></th>\n",
              "      <th>text</th>\n",
              "      <th>category</th>\n",
              "      <th>category_</th>\n",
              "    </tr>\n",
              "  </thead>\n",
              "  <tbody>\n",
              "    <tr>\n",
              "      <th>0</th>\n",
              "      <td>xxbos xxup this # xxmaj coronovirus xxup is xxup showing xxup the \" true xxup xxunk \" xxup of xxup greedy &amp; &amp; xxup selfish xxup people xxup in xxup the xxup grocery xxup stores . xxup one xxup guy xxup got xxup thrown xxup out xxup of xxup the xxup store xxup because xxup he xxup would n't xxup give a xxup couple xxup of xxup the 20 xxup packs xxup of xxup wipes xxup he xxup hoarded xxup to a xxup woman xxup of 2 xxup kids . # xxmaj panicbuying # xxmaj covid_19 # coronaoutbreak xxup what xxup an xxup a - hole !</td>\n",
              "      <td>Negative</td>\n",
              "      <td>Extremely Negative</td>\n",
              "    </tr>\n",
              "    <tr>\n",
              "      <th>1</th>\n",
              "      <td>xxbos xxunk - donât xxmaj touch xxmaj face \\r\\r\\n xxunk - do xxmaj wash xxmaj both xxmaj hands \\r\\r\\n xxunk - get xxmaj the xxmaj flu xxmaj out of xxmaj here \\r\\r\\n icymi - immediately xxmaj cover xxmaj your xxmaj mouth xxmaj idiot \\r\\r\\n xxunk - no xxmaj vaccine at the xxmaj moment \\r\\r\\n xxunk - out of xxmaj toilet xxmaj paper \\r\\r\\n xxunk - quarantine xxmaj time \\r\\r\\n smh - xxunk xxmaj my xxmaj hands \\r\\r\\n xxup xxunk xxmaj stock xxmaj the xxmaj food xxmaj up \\r\\r\\n xxup xxunk xxmaj wear xxmaj the xxmaj facemask \\r\\r\\n▁ # xxmaj covid_19</td>\n",
              "      <td>Extremely Negative</td>\n",
              "      <td>Negative</td>\n",
              "    </tr>\n",
              "    <tr>\n",
              "      <th>2</th>\n",
              "      <td>xxbos xxup no xxup bread , xxup no xxup xxunk : xxmaj spread the word xxup now of food shortages ahead . xxmaj by xxunk \\r\\r\\n▁ # xxunk as in ' the xxmaj panic of xxunk ' # xxunk stepped in &amp; &amp; created # xxup fed ! \\r\\r\\n▁ # xxmaj farmers # xxup covid2019 xxmaj restricted xxmaj farmer 's xxmaj markets xxmaj way to help ? # xxup xxunk # xxunk # xxup xxunk ? \\r\\r\\n https : / / t.co / xxunk https : / / t.co / 1 xxrep 3 h xxunk</td>\n",
              "      <td>Extremely Negative</td>\n",
              "      <td>Negative</td>\n",
              "    </tr>\n",
              "    <tr>\n",
              "      <th>3</th>\n",
              "      <td>xxbos xxup point xxup of xxup sale xxmaj xxunk xxunk xxunk needs of small and xxunk xxunk \\r\\r\\n\\r\\r\\n xxmaj we sell xxunk at affordable prices \\r\\r\\n\\r\\r\\n xxup touch xxup screen xxup monitor 25 , xxrep 3 0 \\r\\r\\n\\r\\r\\n xxup complete xxup xxunk xxup ksh 12 , xxrep 3 0 \\r\\r\\n\\r\\r\\n xxup xxunk xxup xxunk xxup ksh 13 , xxrep 3 0 \\r\\r\\n\\r\\r\\n xxup cash xxup xxunk xxup ksh 8 , xxrep 3 0 \\r\\r\\n\\r\\r\\n xxup contact : xxunk xxunk xxunk / xxunk xxunk xxunk \\r\\r\\n\\r\\r\\n▁ # xxmaj covid_19 https : / / t.co / xxunk</td>\n",
              "      <td>Neutral</td>\n",
              "      <td>Extremely Positive</td>\n",
              "    </tr>\n",
              "    <tr>\n",
              "      <th>4</th>\n",
              "      <td>xxbos xxmaj xxunk in the xxup dc / xxmaj maryland / xxmaj xxunk ( xxunk ) area &amp; &amp; have not contracted xxup covid-19 . \\r\\r\\n\\r\\r\\n xxmaj if you , your g - parents / family / friends ca nt get to a grocery store xxunk : \\r\\r\\n 1 . xxmaj stocked \\r\\r\\n 2 . xxmaj have to use public transportation \\r\\r\\n\\r\\r\\n xxmaj then give me a xxup dm / call ! xxmaj i m xxunk my time to xxunk to and for them ! \\r\\r\\n\\r\\r\\n xxup rt</td>\n",
              "      <td>Positive</td>\n",
              "      <td>Positive</td>\n",
              "    </tr>\n",
              "    <tr>\n",
              "      <th>5</th>\n",
              "      <td>xxbos xxmaj hey , morons in xxmaj sri xxmaj xxunk : xxmaj quit panic - buying perishables you absolute xxunk - xxunk fuck - xxunk . xxmaj nobody else is gon na have food and that xxunk of bread is gon na be xxunk xxup as xxup fuck by the end of the week . xxup also , xxup it 's xxup more xxup efficient xxup to xxup give xxup sick xxup people xxup the xxup masks ! xxmaj use . xxmaj xxunk . # xxmaj covid_19</td>\n",
              "      <td>Extremely Negative</td>\n",
              "      <td>Extremely Negative</td>\n",
              "    </tr>\n",
              "    <tr>\n",
              "      <th>6</th>\n",
              "      <td>xxbos xxmaj on the bright side during this # xxmaj covid_19 \\r\\r\\n 1 . xxmaj more time to spend with your xxunk ones . xxmaj no more work xxunk xxrep 5 ? \\r\\r\\n 2 . xxmaj home cook xxrep 4 ? for the kids \\r\\r\\n 3 . xxmaj less shopping ? ( more online ? ) \\r\\r\\n 4 . xxmaj less gas consumption - less xxunk \\r\\r\\n 5 . xxmaj time for hobby \\r\\r\\n xxmaj what else ? \\r\\r\\n ( me being # xxunk here ? )</td>\n",
              "      <td>Extremely Positive</td>\n",
              "      <td>Negative</td>\n",
              "    </tr>\n",
              "    <tr>\n",
              "      <th>7</th>\n",
              "      <td>xxbos xxmaj yo mama so xxunk xxup covid wo n't take her \\r\\r\\n xxmaj yo mama so dumb she thinks the xxup cdc is a tv channel \\r\\r\\n xxmaj yo mama so dirty she got the xxunk - no - no - no \\r\\r\\n xxmaj yo mama so dumb she went to the grocery store ( that 's it ) \\r\\r\\n\\r\\r\\n xxmaj yo mama so dumb that she # socialdistance - no wait , that 's smart \\r\\r\\n\\r\\r\\n▁ # xxunk # xxmaj covid_19</td>\n",
              "      <td>Extremely Negative</td>\n",
              "      <td>Extremely Negative</td>\n",
              "    </tr>\n",
              "    <tr>\n",
              "      <th>8</th>\n",
              "      <td>xxbos xxmaj xxunk xxup covid-19 xxmaj apocalypse - \\r\\r\\n\\r\\r\\n xxmaj we spent xxunk hours at xxmaj meijer xxmaj grocery xxmaj store in xxmaj xxunk , xxup il where there is no bread , no meat , no chicken , no xxunk , no potatoes , no water , no rice , no toilet paper or paper towels etc … xxrep 3 ! \\r\\r\\n\\r\\r\\n▁ # xxmaj coronavirus \\r\\r\\n▁ # xxmaj meijer \\r\\r\\n▁ # coronapocalypse \\r\\r\\n▁ # quarantineandchill https : / / t.co / xxunk</td>\n",
              "      <td>Extremely Negative</td>\n",
              "      <td>Extremely Negative</td>\n",
              "    </tr>\n",
              "  </tbody>\n",
              "</table>"
            ]
          },
          "metadata": {}
        }
      ]
    },
    {
      "cell_type": "code",
      "source": [
        "# Perform prediction\n",
        "learn.predict(\"I hate to be quarantined ever again!\")"
      ],
      "metadata": {
        "id": "rMf02BQvX3oO",
        "colab": {
          "base_uri": "https://localhost:8080/",
          "height": 71
        },
        "outputId": "7412941d-8644-4777-b68e-c8e16e313b55",
        "collapsed": true
      },
      "execution_count": null,
      "outputs": [
        {
          "output_type": "display_data",
          "data": {
            "text/plain": [
              "<IPython.core.display.HTML object>"
            ],
            "text/html": [
              "\n",
              "<style>\n",
              "    /* Turns off some styling */\n",
              "    progress {\n",
              "        /* gets rid of default border in Firefox and Opera. */\n",
              "        border: none;\n",
              "        /* Needs to be in here for Safari polyfill so background images work as expected. */\n",
              "        background-size: auto;\n",
              "    }\n",
              "    progress:not([value]), progress:not([value])::-webkit-progress-bar {\n",
              "        background: repeating-linear-gradient(45deg, #7e7e7e, #7e7e7e 10px, #5c5c5c 10px, #5c5c5c 20px);\n",
              "    }\n",
              "    .progress-bar-interrupted, .progress-bar-interrupted::-webkit-progress-bar {\n",
              "        background: #F44336;\n",
              "    }\n",
              "</style>\n"
            ]
          },
          "metadata": {}
        },
        {
          "output_type": "display_data",
          "data": {
            "text/plain": [
              "<IPython.core.display.HTML object>"
            ],
            "text/html": []
          },
          "metadata": {}
        },
        {
          "output_type": "execute_result",
          "data": {
            "text/plain": [
              "('Extremely Negative',\n",
              " tensor(0),\n",
              " tensor([9.7151e-01, 1.5399e-05, 2.8266e-02, 1.7502e-04, 3.0617e-05]))"
            ]
          },
          "metadata": {},
          "execution_count": 11
        }
      ]
    },
    {
      "cell_type": "code",
      "source": [
        "learn.predict(\"I love to be quarantined!\")"
      ],
      "metadata": {
        "id": "vrgpstf6X760",
        "colab": {
          "base_uri": "https://localhost:8080/",
          "height": 71
        },
        "outputId": "3ad3dbd1-6bf6-4542-e10d-c0fe792d9728",
        "collapsed": true
      },
      "execution_count": null,
      "outputs": [
        {
          "output_type": "display_data",
          "data": {
            "text/plain": [
              "<IPython.core.display.HTML object>"
            ],
            "text/html": [
              "\n",
              "<style>\n",
              "    /* Turns off some styling */\n",
              "    progress {\n",
              "        /* gets rid of default border in Firefox and Opera. */\n",
              "        border: none;\n",
              "        /* Needs to be in here for Safari polyfill so background images work as expected. */\n",
              "        background-size: auto;\n",
              "    }\n",
              "    progress:not([value]), progress:not([value])::-webkit-progress-bar {\n",
              "        background: repeating-linear-gradient(45deg, #7e7e7e, #7e7e7e 10px, #5c5c5c 10px, #5c5c5c 20px);\n",
              "    }\n",
              "    .progress-bar-interrupted, .progress-bar-interrupted::-webkit-progress-bar {\n",
              "        background: #F44336;\n",
              "    }\n",
              "</style>\n"
            ]
          },
          "metadata": {}
        },
        {
          "output_type": "display_data",
          "data": {
            "text/plain": [
              "<IPython.core.display.HTML object>"
            ],
            "text/html": []
          },
          "metadata": {}
        },
        {
          "output_type": "execute_result",
          "data": {
            "text/plain": [
              "('Extremely Positive',\n",
              " tensor(1),\n",
              " tensor([4.0013e-08, 9.9975e-01, 1.1550e-08, 6.3470e-07, 2.4578e-04]))"
            ]
          },
          "metadata": {},
          "execution_count": 12
        }
      ]
    },
    {
      "cell_type": "code",
      "source": [
        "# Plot confusion matrix\n",
        "classif_interp = ClassificationInterpretation.from_learner(learn)\n",
        "classif_interp.plot_confusion_matrix()"
      ],
      "metadata": {
        "id": "q1xNYd8yX_9U",
        "colab": {
          "base_uri": "https://localhost:8080/",
          "height": 506
        },
        "outputId": "23c615cb-4800-4a48-de59-9f19e7a0b551",
        "collapsed": true
      },
      "execution_count": null,
      "outputs": [
        {
          "output_type": "display_data",
          "data": {
            "text/plain": [
              "<IPython.core.display.HTML object>"
            ],
            "text/html": [
              "\n",
              "<style>\n",
              "    /* Turns off some styling */\n",
              "    progress {\n",
              "        /* gets rid of default border in Firefox and Opera. */\n",
              "        border: none;\n",
              "        /* Needs to be in here for Safari polyfill so background images work as expected. */\n",
              "        background-size: auto;\n",
              "    }\n",
              "    progress:not([value]), progress:not([value])::-webkit-progress-bar {\n",
              "        background: repeating-linear-gradient(45deg, #7e7e7e, #7e7e7e 10px, #5c5c5c 10px, #5c5c5c 20px);\n",
              "    }\n",
              "    .progress-bar-interrupted, .progress-bar-interrupted::-webkit-progress-bar {\n",
              "        background: #F44336;\n",
              "    }\n",
              "</style>\n"
            ]
          },
          "metadata": {}
        },
        {
          "output_type": "display_data",
          "data": {
            "text/plain": [
              "<IPython.core.display.HTML object>"
            ],
            "text/html": []
          },
          "metadata": {}
        },
        {
          "output_type": "display_data",
          "data": {
            "text/plain": [
              "<IPython.core.display.HTML object>"
            ],
            "text/html": [
              "\n",
              "<style>\n",
              "    /* Turns off some styling */\n",
              "    progress {\n",
              "        /* gets rid of default border in Firefox and Opera. */\n",
              "        border: none;\n",
              "        /* Needs to be in here for Safari polyfill so background images work as expected. */\n",
              "        background-size: auto;\n",
              "    }\n",
              "    progress:not([value]), progress:not([value])::-webkit-progress-bar {\n",
              "        background: repeating-linear-gradient(45deg, #7e7e7e, #7e7e7e 10px, #5c5c5c 10px, #5c5c5c 20px);\n",
              "    }\n",
              "    .progress-bar-interrupted, .progress-bar-interrupted::-webkit-progress-bar {\n",
              "        background: #F44336;\n",
              "    }\n",
              "</style>\n"
            ]
          },
          "metadata": {}
        },
        {
          "output_type": "display_data",
          "data": {
            "text/plain": [
              "<IPython.core.display.HTML object>"
            ],
            "text/html": []
          },
          "metadata": {}
        },
        {
          "output_type": "display_data",
          "data": {
            "text/plain": [
              "<Figure size 640x480 with 1 Axes>"
            ],
            "image/png": "[encoded data removed]"
          },
          "metadata": {}
        }
      ]
    },
    {
      "cell_type": "code",
      "source": [
        "# Get model mistakes\n",
        "interp = Interpretation.from_learner(learn)\n",
        "interp.plot_top_losses(9, figsize=(15,10))"
      ],
      "metadata": {
        "id": "mgTriDspYE_9",
        "colab": {
          "base_uri": "https://localhost:8080/",
          "height": 1000
        },
        "outputId": "3975bc35-bcad-4510-ced7-d0f630b799ae",
        "collapsed": true
      },
      "execution_count": null,
      "outputs": [
        {
          "output_type": "display_data",
          "data": {
            "text/plain": [
              "<IPython.core.display.HTML object>"
            ],
            "text/html": [
              "\n",
              "<style>\n",
              "    /* Turns off some styling */\n",
              "    progress {\n",
              "        /* gets rid of default border in Firefox and Opera. */\n",
              "        border: none;\n",
              "        /* Needs to be in here for Safari polyfill so background images work as expected. */\n",
              "        background-size: auto;\n",
              "    }\n",
              "    progress:not([value]), progress:not([value])::-webkit-progress-bar {\n",
              "        background: repeating-linear-gradient(45deg, #7e7e7e, #7e7e7e 10px, #5c5c5c 10px, #5c5c5c 20px);\n",
              "    }\n",
              "    .progress-bar-interrupted, .progress-bar-interrupted::-webkit-progress-bar {\n",
              "        background: #F44336;\n",
              "    }\n",
              "</style>\n"
            ]
          },
          "metadata": {}
        },
        {
          "output_type": "display_data",
          "data": {
            "text/plain": [
              "<IPython.core.display.HTML object>"
            ],
            "text/html": []
          },
          "metadata": {}
        },
        {
          "output_type": "display_data",
          "data": {
            "text/plain": [
              "<IPython.core.display.HTML object>"
            ],
            "text/html": [
              "\n",
              "<style>\n",
              "    /* Turns off some styling */\n",
              "    progress {\n",
              "        /* gets rid of default border in Firefox and Opera. */\n",
              "        border: none;\n",
              "        /* Needs to be in here for Safari polyfill so background images work as expected. */\n",
              "        background-size: auto;\n",
              "    }\n",
              "    progress:not([value]), progress:not([value])::-webkit-progress-bar {\n",
              "        background: repeating-linear-gradient(45deg, #7e7e7e, #7e7e7e 10px, #5c5c5c 10px, #5c5c5c 20px);\n",
              "    }\n",
              "    .progress-bar-interrupted, .progress-bar-interrupted::-webkit-progress-bar {\n",
              "        background: #F44336;\n",
              "    }\n",
              "</style>\n"
            ]
          },
          "metadata": {}
        },
        {
          "output_type": "display_data",
          "data": {
            "text/plain": [
              "<IPython.core.display.HTML object>"
            ],
            "text/html": []
          },
          "metadata": {}
        },
        {
          "output_type": "display_data",
          "data": {
            "text/plain": [
              "<IPython.core.display.HTML object>"
            ],
            "text/html": [
              "<table border=\"1\" class=\"dataframe\">\n",
              "  <thead>\n",
              "    <tr style=\"text-align: right;\">\n",
              "      <th></th>\n",
              "      <th>input</th>\n",
              "      <th>target</th>\n",
              "      <th>predicted</th>\n",
              "      <th>probability</th>\n",
              "      <th>loss</th>\n",
              "    </tr>\n",
              "  </thead>\n",
              "  <tbody>\n",
              "    <tr>\n",
              "      <th>0</th>\n",
              "      <td>xxbos xxunk xxmaj the test for # xxup covid19 costs xxunk xxrep 3 0 xxunk ' xxrep 3 0 xxunk . xxup xxunk # xxmaj thailand site said only 4 hospitals have # covid_19 testing xxunk but not these two . xxmaj shame on them , raising the prices up that high . # coronavirus # xxup covid19 # xxup covid2019 # xxmaj covid_19 # xxrep 4 ?</td>\n",
              "      <td>Positive</td>\n",
              "      <td>Extremely Negative</td>\n",
              "      <td>0.6170220971107483</td>\n",
              "      <td>10.299567222595215</td>\n",
              "    </tr>\n",
              "    <tr>\n",
              "      <th>1</th>\n",
              "      <td>xxbos xxmaj how is a # coronavirus lockdown effective ? xxmaj the virus xxunk for 3 hours ( air ) , 1 day ( xxunk - lovely online shopping deliveries ) and 3 days ( metal . ) https : / / t.co / xxunk xxmaj stop transmission entirely with a xxmaj china - style lockdown , xxunk through existing cases . # coronavirusuk</td>\n",
              "      <td>Extremely Positive</td>\n",
              "      <td>Negative</td>\n",
              "      <td>0.8220972418785095</td>\n",
              "      <td>7.592456817626953</td>\n",
              "    </tr>\n",
              "    <tr>\n",
              "      <th>2</th>\n",
              "      <td>xxbos xxmaj when i watch a nature xxunk and see buffalo panicking in a stampede i want to xxunk at the xxunk , just work together and youâll all be ok . \\r\\r\\n\\r\\r\\n xxmaj then i went to the supermarket last night and i realized \\r\\r\\n\\r\\r\\n i am the buffalo . \\r\\r\\n\\r\\r\\n▁ # xxmaj covid_19 # pandemic # panicbuying</td>\n",
              "      <td>Extremely Negative</td>\n",
              "      <td>Positive</td>\n",
              "      <td>0.7934337258338928</td>\n",
              "      <td>7.335042476654053</td>\n",
              "    </tr>\n",
              "    <tr>\n",
              "      <th>3</th>\n",
              "      <td>xxbos # coronavirus wonât be the death of me , starvation will be as shops all sold out of food xxrep 5 ? weâve xxunk become xxmaj america &amp; &amp; now stock piled everything leaving nothing on the shelves &amp; &amp; millions of pounds profits for the supermarkets who record better months sales than at xxmaj christmas</td>\n",
              "      <td>Extremely Positive</td>\n",
              "      <td>Negative</td>\n",
              "      <td>0.6114674210548401</td>\n",
              "      <td>6.234889507293701</td>\n",
              "    </tr>\n",
              "    <tr>\n",
              "      <th>4</th>\n",
              "      <td>xxbos xxup just xxup in : xxmaj our xxunk has just reached xxup xxunk million xxunk for our donation drive for # xxup covid19 health workers ! ? ? \\r\\r\\n\\r\\r\\n xxmaj xxunk xxmaj xxunk xxunk sa xxunk ng xxunk - donate ! xxmaj xxunk xxmaj xxunk ! https : / / t.co / xxunk</td>\n",
              "      <td>Extremely Negative</td>\n",
              "      <td>Positive</td>\n",
              "      <td>0.4979397654533386</td>\n",
              "      <td>5.563121795654297</td>\n",
              "    </tr>\n",
              "    <tr>\n",
              "      <th>5</th>\n",
              "      <td>xxbos xxmaj one grocery store in xxmaj xxunk has appealed to the customers to not come to the store when ill not xxunk the personnel not fight over stuff not steal stuff from other people s carts xxmaj this means that all of that happens xxmaj people have lost their minds</td>\n",
              "      <td>Positive</td>\n",
              "      <td>Extremely Negative</td>\n",
              "      <td>0.6229587197303772</td>\n",
              "      <td>5.560741901397705</td>\n",
              "    </tr>\n",
              "    <tr>\n",
              "      <th>6</th>\n",
              "      <td>xxbos i donât know why i was scared to go to the grocery store today â the only viruses i was exposed to were peopleâs bad - ass kids . # xxmaj covid_19 # coronapocalypse</td>\n",
              "      <td>Positive</td>\n",
              "      <td>Extremely Negative</td>\n",
              "      <td>0.9605608582496643</td>\n",
              "      <td>5.467304229736328</td>\n",
              "    </tr>\n",
              "    <tr>\n",
              "      <th>7</th>\n",
              "      <td>xxbos xxmaj for those self xxunk in thoughts of food , medicine and essential household goods stock piling . xxmaj like people on universal credit be stock piling xxup ffs xxrep 3 ! # coronavirus</td>\n",
              "      <td>Negative</td>\n",
              "      <td>Positive</td>\n",
              "      <td>0.6524385213851929</td>\n",
              "      <td>5.364901542663574</td>\n",
              "    </tr>\n",
              "    <tr>\n",
              "      <th>8</th>\n",
              "      <td>xxbos xxmaj yet we supermarket employees still have to go to work . xxmaj hell xxrep 4 o … . ? ? xxmaj what about xxup us ? # xxmaj covid_19</td>\n",
              "      <td>Neutral</td>\n",
              "      <td>Extremely Negative</td>\n",
              "      <td>0.946061372756958</td>\n",
              "      <td>5.3563642501831055</td>\n",
              "    </tr>\n",
              "  </tbody>\n",
              "</table>"
            ]
          },
          "metadata": {}
        }
      ]
    },
    {
      "cell_type": "markdown",
      "source": [
        "## Exercise 2b"
      ],
      "metadata": {
        "id": "yoOB4BS89VeR"
      }
    },
    {
      "cell_type": "markdown",
      "source": [
        "Using the trained LSTM model, perform prediction on the test set."
      ],
      "metadata": {
        "id": "xRlbSehb9eIf"
      }
    }
  ]
}