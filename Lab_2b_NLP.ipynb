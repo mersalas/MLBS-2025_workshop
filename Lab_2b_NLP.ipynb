{
  "nbformat": 4,
  "nbformat_minor": 0,
  "metadata": {
    "colab": {
      "provenance": [],
      "gpuType": "T4",
      "mount_file_id": "1LPAEA4nNVaYZwylxoBkTTsXa8M7qQoMg",
      "authorship_tag": "ABX9TyPVIk/v739hVvBOdqxMLIdE",
      "include_colab_link": true
    },
    "kernelspec": {
      "name": "python3",
      "display_name": "Python 3"
    },
    "language_info": {
      "name": "python"
    },
    "accelerator": "GPU"
  },
  "cells": [
    {
      "cell_type": "markdown",
      "metadata": {
        "id": "view-in-github",
        "colab_type": "text"
      },
      "source": [
        "<a href=\"https://colab.research.google.com/github/mersalas/MLBS-2025_workshop/blob/main/Lab_2b_NLP.ipynb\" target=\"_parent\"><img src=\"https://colab.research.google.com/assets/colab-badge.svg\" alt=\"Open In Colab\"/></a>"
      ]
    },
    {
      "cell_type": "code",
      "execution_count": null,
      "metadata": {
        "id": "ES3WW6rPN5RY"
      },
      "outputs": [],
      "source": [
        "from fastai.text.all import *\n",
        "import pandas as pd"
      ]
    },
    {
      "cell_type": "markdown",
      "source": [
        "Download the [Coronavirus tweets NLP](https://github.com/mersalas/MLBS-2025_workshop/blob/main/Datasets/corona_tweet.zip)"
      ],
      "metadata": {
        "id": "t-hbdFfgQD2q"
      }
    },
    {
      "cell_type": "code",
      "source": [
        "# Download dataset\n",
        "!wget https://github.com/mersalas/MLBS-2025_workshop/blob/main/Datasets/corona_tweet.zip"
      ],
      "metadata": {
        "id": "ZKM5pIh0rYic"
      },
      "execution_count": null,
      "outputs": []
    },
    {
      "cell_type": "code",
      "source": [
        "# Unzip folder\n",
        "from zipfile import ZipFile\n",
        "with ZipFile(\"/content/corona_tweet.zip\", \"r\") as archive:\n",
        "             archive.extractall(\"corona_tweet\")"
      ],
      "metadata": {
        "id": "51L6qyNNP8uJ"
      },
      "execution_count": null,
      "outputs": []
    },
    {
      "cell_type": "code",
      "source": [
        "# Read csv file\n",
        "text_df = pd.read_csv(\"/content/corona_tweet/Corona_NLP_test.csv\", encoding='latin1')"
      ],
      "metadata": {
        "id": "_wk0WAyoQ3sC"
      },
      "execution_count": null,
      "outputs": []
    },
    {
      "cell_type": "code",
      "source": [
        "# Output first 5 rows\n",
        "text_df.head()"
      ],
      "metadata": {
        "id": "kI8Ga8HcRXYd",
        "collapsed": true
      },
      "execution_count": null,
      "outputs": []
    },
    {
      "cell_type": "code",
      "source": [
        "# Create dataloader\n",
        "dls = TextDataLoaders.from_df(text_df,\n",
        "                              text_col = 'OriginalTweet',\n",
        "                              label_col = 'Sentiment',\n",
        "                              valid_pct = 0.20,\n",
        "                              bs = 64)"
      ],
      "metadata": {
        "colab": {
          "base_uri": "https://localhost:8080/",
          "height": 17
        },
        "id": "bFYjE5kWTNVJ",
        "outputId": "3e156309-47ff-4afb-a931-b822d5be370a"
      },
      "execution_count": null,
      "outputs": [
        {
          "output_type": "display_data",
          "data": {
            "text/plain": [
              "<IPython.core.display.HTML object>"
            ],
            "text/html": [
              "\n",
              "<style>\n",
              "    /* Turns off some styling */\n",
              "    progress {\n",
              "        /* gets rid of default border in Firefox and Opera. */\n",
              "        border: none;\n",
              "        /* Needs to be in here for Safari polyfill so background images work as expected. */\n",
              "        background-size: auto;\n",
              "    }\n",
              "    progress:not([value]), progress:not([value])::-webkit-progress-bar {\n",
              "        background: repeating-linear-gradient(45deg, #7e7e7e, #7e7e7e 10px, #5c5c5c 10px, #5c5c5c 20px);\n",
              "    }\n",
              "    .progress-bar-interrupted, .progress-bar-interrupted::-webkit-progress-bar {\n",
              "        background: #F44336;\n",
              "    }\n",
              "</style>\n"
            ]
          },
          "metadata": {}
        },
        {
          "output_type": "display_data",
          "data": {
            "text/plain": [
              "<IPython.core.display.HTML object>"
            ],
            "text/html": []
          },
          "metadata": {}
        }
      ]
    },
    {
      "cell_type": "code",
      "source": [
        "dls.show_batch()"
      ],
      "metadata": {
        "id": "qA8zgPH_TsEQ",
        "collapsed": true
      },
      "execution_count": null,
      "outputs": []
    },
    {
      "cell_type": "code",
      "source": [
        "# Create a LSTM learner\n",
        "learn = text_classifier_learner(dls,\n",
        "                                AWD_LSTM,\n",
        "                                drop_mult=0.5,\n",
        "                                metrics=[accuracy])"
      ],
      "metadata": {
        "id": "UzWahGDlTwiO"
      },
      "execution_count": null,
      "outputs": []
    },
    {
      "cell_type": "code",
      "source": [
        "# Find appropriate learning rate\n",
        "torch.serialization.add_safe_globals([L])\n",
        "learn.lr_find(suggest_funcs=(valley, slide))"
      ],
      "metadata": {
        "id": "xrVHUjuOUKMJ",
        "collapsed": true
      },
      "execution_count": null,
      "outputs": []
    },
    {
      "cell_type": "code",
      "source": [
        "# Fine tune the model\n",
        "learn.fine_tune(4, 1e-1)"
      ],
      "metadata": {
        "id": "xa0qmMyYUbCb",
        "collapsed": true
      },
      "execution_count": null,
      "outputs": []
    },
    {
      "cell_type": "code",
      "source": [
        "# Show results\n",
        "learn.show_results()"
      ],
      "metadata": {
        "id": "o2a1Bn1dX05l",
        "collapsed": true
      },
      "execution_count": null,
      "outputs": []
    },
    {
      "cell_type": "code",
      "source": [
        "# Perform prediction\n",
        "learn.predict(\"I hate to be quarantined ever again!\")"
      ],
      "metadata": {
        "id": "rMf02BQvX3oO",
        "collapsed": true
      },
      "execution_count": null,
      "outputs": []
    },
    {
      "cell_type": "code",
      "source": [
        "learn.predict(\"I love to be quarantined!\")"
      ],
      "metadata": {
        "id": "vrgpstf6X760",
        "collapsed": true
      },
      "execution_count": null,
      "outputs": []
    },
    {
      "cell_type": "code",
      "source": [
        "# Plot confusion matrix\n",
        "classif_interp = ClassificationInterpretation.from_learner(learn)\n",
        "classif_interp.plot_confusion_matrix()"
      ],
      "metadata": {
        "id": "q1xNYd8yX_9U",
        "collapsed": true
      },
      "execution_count": null,
      "outputs": []
    },
    {
      "cell_type": "code",
      "source": [
        "# Get model mistakes\n",
        "interp = Interpretation.from_learner(learn)\n",
        "interp.plot_top_losses(9, figsize=(15,10))"
      ],
      "metadata": {
        "id": "mgTriDspYE_9",
        "collapsed": true
      },
      "execution_count": null,
      "outputs": []
    },
    {
      "cell_type": "markdown",
      "source": [
        "## Exercise 2b"
      ],
      "metadata": {
        "id": "yoOB4BS89VeR"
      }
    },
    {
      "cell_type": "markdown",
      "source": [
        "1.   Using the trained LSTM model, perform prediction on the test set.\n",
        "\n",
        "2.   Improve the performance of the model by trying the following:\n",
        "\n",
        "\n",
        "*   reduce dropout rate (drop_mult)\n",
        "*   replace AWD_LSTM with Transformer"
      ],
      "metadata": {
        "id": "xRlbSehb9eIf"
      }
    }
  ]
}